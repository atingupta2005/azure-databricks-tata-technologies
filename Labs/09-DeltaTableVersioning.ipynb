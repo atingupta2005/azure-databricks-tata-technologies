{
 "cells": [
  {
   "cell_type": "code",
   "execution_count": 0,
   "metadata": {
    "application/vnd.databricks.v1+cell": {
     "cellMetadata": {
      "byteLimit": 2048000,
      "rowLimit": 10000
     },
     "inputWidgets": {},
     "nuid": "c67e227e-fd50-47b5-b0e5-ab5bf9a02aa3",
     "showTitle": false,
     "tableResultSettingsMap": {},
     "title": ""
    },
    "vscode": {
     "languageId": "python"
    }
   },
   "outputs": [
    {
     "output_type": "display_data",
     "data": {
      "text/html": [
       "<style scoped>\n",
       "  .table-result-container {\n",
       "    max-height: 300px;\n",
       "    overflow: auto;\n",
       "  }\n",
       "  table, th, td {\n",
       "    border: 1px solid black;\n",
       "    border-collapse: collapse;\n",
       "  }\n",
       "  th, td {\n",
       "    padding: 5px;\n",
       "  }\n",
       "  th {\n",
       "    text-align: left;\n",
       "  }\n",
       "</style><div class='table-result-container'><table class='table-result'><thead style='background-color: white'><tr><th>version</th><th>timestamp</th><th>userId</th><th>userName</th><th>operation</th><th>operationParameters</th><th>job</th><th>notebook</th><th>clusterId</th><th>readVersion</th><th>isolationLevel</th><th>isBlindAppend</th><th>operationMetrics</th><th>userMetadata</th><th>engineInfo</th></tr></thead><tbody><tr><td>3</td><td>2025-07-14T06:21:18Z</td><td>3595229170535055</td><td>rahul.aggarwal.trainer.1984@gmail.com</td><td>WRITE</td><td>Map(mode -> Overwrite, statsOnLoad -> false, partitionBy -> [])</td><td>null</td><td>List(4430315999791729)</td><td>0714-054324-wijx8lei</td><td>2</td><td>WriteSerializable</td><td>false</td><td>Map(numFiles -> 1, numRemovedFiles -> 1, numRemovedBytes -> 12312745, numOutputRows -> 150000, numOutputBytes -> 12197518)</td><td>null</td><td>Databricks-Runtime/16.4.x-photon-scala2.12</td></tr><tr><td>2</td><td>2025-07-14T04:40:34Z</td><td>3595229170535055</td><td>rahul.aggarwal.trainer.1984@gmail.com</td><td>WRITE</td><td>Map(mode -> Overwrite, statsOnLoad -> false, partitionBy -> [])</td><td>null</td><td>List(4430315999791729)</td><td>0708-043628-a9bd7z9m</td><td>1</td><td>WriteSerializable</td><td>false</td><td>Map(numFiles -> 1, numOutputRows -> 150000, numOutputBytes -> 12312745)</td><td>null</td><td>Databricks-Runtime/15.4.x-aarch64-photon-scala2.12</td></tr><tr><td>1</td><td>2025-07-14T04:40:01Z</td><td>3595229170535055</td><td>rahul.aggarwal.trainer.1984@gmail.com</td><td>WRITE</td><td>Map(mode -> Overwrite, statsOnLoad -> false, partitionBy -> [])</td><td>null</td><td>List(4430315999791729)</td><td>0708-043628-a9bd7z9m</td><td>0</td><td>WriteSerializable</td><td>false</td><td>Map(numFiles -> 1, numOutputRows -> 150000, numOutputBytes -> 12312745)</td><td>null</td><td>Databricks-Runtime/15.4.x-aarch64-photon-scala2.12</td></tr><tr><td>0</td><td>2025-07-14T04:25:52Z</td><td>71742026430945</td><td>kak930610@tatatechnologies.com</td><td>WRITE</td><td>Map(mode -> Overwrite, statsOnLoad -> false, partitionBy -> [])</td><td>null</td><td>List(4430315999791673)</td><td>0708-043628-a9bd7z9m</td><td>null</td><td>WriteSerializable</td><td>false</td><td>Map(numFiles -> 1, numOutputRows -> 150000, numOutputBytes -> 12312745)</td><td>null</td><td>Databricks-Runtime/15.4.x-aarch64-photon-scala2.12</td></tr></tbody></table></div>"
      ]
     },
     "metadata": {
      "application/vnd.databricks.v1+output": {
       "addedWidgets": {},
       "aggData": [],
       "aggError": "",
       "aggOverflow": false,
       "aggSchema": [],
       "aggSeriesLimitReached": false,
       "aggType": "",
       "arguments": {},
       "columnCustomDisplayInfos": {},
       "data": [
        [
         3,
         "2025-07-14T06:21:18Z",
         "3595229170535055",
         "rahul.aggarwal.trainer.1984@gmail.com",
         "WRITE",
         {
          "mode": "Overwrite",
          "partitionBy": "[]",
          "statsOnLoad": "false"
         },
         null,
         [
          "4430315999791729"
         ],
         "0714-054324-wijx8lei",
         2,
         "WriteSerializable",
         false,
         {
          "numFiles": "1",
          "numOutputBytes": "12197518",
          "numOutputRows": "150000",
          "numRemovedBytes": "12312745",
          "numRemovedFiles": "1"
         },
         null,
         "Databricks-Runtime/16.4.x-photon-scala2.12"
        ],
        [
         2,
         "2025-07-14T04:40:34Z",
         "3595229170535055",
         "rahul.aggarwal.trainer.1984@gmail.com",
         "WRITE",
         {
          "mode": "Overwrite",
          "partitionBy": "[]",
          "statsOnLoad": "false"
         },
         null,
         [
          "4430315999791729"
         ],
         "0708-043628-a9bd7z9m",
         1,
         "WriteSerializable",
         false,
         {
          "numFiles": "1",
          "numOutputBytes": "12312745",
          "numOutputRows": "150000"
         },
         null,
         "Databricks-Runtime/15.4.x-aarch64-photon-scala2.12"
        ],
        [
         1,
         "2025-07-14T04:40:01Z",
         "3595229170535055",
         "rahul.aggarwal.trainer.1984@gmail.com",
         "WRITE",
         {
          "mode": "Overwrite",
          "partitionBy": "[]",
          "statsOnLoad": "false"
         },
         null,
         [
          "4430315999791729"
         ],
         "0708-043628-a9bd7z9m",
         0,
         "WriteSerializable",
         false,
         {
          "numFiles": "1",
          "numOutputBytes": "12312745",
          "numOutputRows": "150000"
         },
         null,
         "Databricks-Runtime/15.4.x-aarch64-photon-scala2.12"
        ],
        [
         0,
         "2025-07-14T04:25:52Z",
         "71742026430945",
         "kak930610@tatatechnologies.com",
         "WRITE",
         {
          "mode": "Overwrite",
          "partitionBy": "[]",
          "statsOnLoad": "false"
         },
         null,
         [
          "4430315999791673"
         ],
         "0708-043628-a9bd7z9m",
         null,
         "WriteSerializable",
         false,
         {
          "numFiles": "1",
          "numOutputBytes": "12312745",
          "numOutputRows": "150000"
         },
         null,
         "Databricks-Runtime/15.4.x-aarch64-photon-scala2.12"
        ]
       ],
       "datasetInfos": [],
       "dbfsResultPath": null,
       "isJsonSchema": true,
       "metadata": {},
       "overflow": false,
       "plotOptions": {
        "customPlotOptions": {},
        "displayType": "table",
        "pivotAggregation": null,
        "pivotColumns": null,
        "xColumns": null,
        "yColumns": null
       },
       "removedWidgets": [],
       "schema": [
        {
         "metadata": "{}",
         "name": "version",
         "type": "\"long\""
        },
        {
         "metadata": "{}",
         "name": "timestamp",
         "type": "\"timestamp\""
        },
        {
         "metadata": "{}",
         "name": "userId",
         "type": "\"string\""
        },
        {
         "metadata": "{}",
         "name": "userName",
         "type": "\"string\""
        },
        {
         "metadata": "{}",
         "name": "operation",
         "type": "\"string\""
        },
        {
         "metadata": "{}",
         "name": "operationParameters",
         "type": "{\"type\":\"map\",\"keyType\":\"string\",\"valueType\":\"string\",\"valueContainsNull\":true}"
        },
        {
         "metadata": "{}",
         "name": "job",
         "type": "{\"type\":\"struct\",\"fields\":[{\"name\":\"jobId\",\"type\":\"string\",\"nullable\":true,\"metadata\":{}},{\"name\":\"jobName\",\"type\":\"string\",\"nullable\":true,\"metadata\":{}},{\"name\":\"jobRunId\",\"type\":\"string\",\"nullable\":true,\"metadata\":{}},{\"name\":\"runId\",\"type\":\"string\",\"nullable\":true,\"metadata\":{}},{\"name\":\"jobOwnerId\",\"type\":\"string\",\"nullable\":true,\"metadata\":{}},{\"name\":\"triggerType\",\"type\":\"string\",\"nullable\":true,\"metadata\":{}}]}"
        },
        {
         "metadata": "{}",
         "name": "notebook",
         "type": "{\"type\":\"struct\",\"fields\":[{\"name\":\"notebookId\",\"type\":\"string\",\"nullable\":true,\"metadata\":{}}]}"
        },
        {
         "metadata": "{}",
         "name": "clusterId",
         "type": "\"string\""
        },
        {
         "metadata": "{}",
         "name": "readVersion",
         "type": "\"long\""
        },
        {
         "metadata": "{}",
         "name": "isolationLevel",
         "type": "\"string\""
        },
        {
         "metadata": "{}",
         "name": "isBlindAppend",
         "type": "\"boolean\""
        },
        {
         "metadata": "{}",
         "name": "operationMetrics",
         "type": "{\"type\":\"map\",\"keyType\":\"string\",\"valueType\":\"string\",\"valueContainsNull\":true}"
        },
        {
         "metadata": "{}",
         "name": "userMetadata",
         "type": "\"string\""
        },
        {
         "metadata": "{}",
         "name": "engineInfo",
         "type": "\"string\""
        }
       ],
       "type": "table"
      }
     },
     "output_type": "display_data"
    }
   ],
   "source": [
    "display(spark.sql(\"\"\"\n",
    "  DESCRIBE HISTORY ag_us_east_2.`amit-tpchdb`.customer\n",
    "\"\"\"))\n"
   ]
  },
  {
   "cell_type": "code",
   "execution_count": 0,
   "metadata": {
    "application/vnd.databricks.v1+cell": {
     "cellMetadata": {
      "byteLimit": 2048000,
      "rowLimit": 10000
     },
     "inputWidgets": {},
     "nuid": "001e7bc7-af9e-48da-a9c3-00a784715aeb",
     "showTitle": false,
     "tableResultSettingsMap": {},
     "title": ""
    },
    "vscode": {
     "languageId": "python"
    }
   },
   "outputs": [
    {
     "output_type": "stream",
     "name": "stdout",
     "output_type": "stream",
     "text": [
      "150000\n"
     ]
    }
   ],
   "source": [
    "# Total rows currently CustomerDelta table = 2,850,000\n",
    "df = spark.read \\\n",
    "  .format(\"delta\") \\\n",
    "  .load(\"s3://aws-databricks-data-bucket-atin/data/Customer/delta\")\n",
    "print(df.count())"
   ]
  },
  {
   "cell_type": "code",
   "execution_count": 0,
   "metadata": {
    "application/vnd.databricks.v1+cell": {
     "cellMetadata": {
      "byteLimit": 2048000,
      "rowLimit": 10000
     },
     "inputWidgets": {},
     "nuid": "86fe17c0-27d8-4d6d-a9d1-0c4713b7a5b6",
     "showTitle": false,
     "tableResultSettingsMap": {},
     "title": ""
    },
    "vscode": {
     "languageId": "python"
    }
   },
   "outputs": [
    {
     "output_type": "stream",
     "name": "stdout",
     "output_type": "stream",
     "text": [
      "150000\n"
     ]
    }
   ],
   "source": [
    "# Let's read using timestampAsOf to count the number of rows\n",
    "df = spark.read \\\n",
    "  .format(\"delta\") \\\n",
    "  .option(\"timestampAsOf\", \"2025-07-14 05:25:52.0\") \\\n",
    "  .load(\"s3://aws-databricks-data-bucket-atin/data/Customer/delta\")\n",
    "\n",
    "print(df.count())"
   ]
  },
  {
   "cell_type": "code",
   "execution_count": 0,
   "metadata": {
    "application/vnd.databricks.v1+cell": {
     "cellMetadata": {
      "byteLimit": 2048000,
      "implicitDf": true,
      "rowLimit": 10000
     },
     "inputWidgets": {},
     "nuid": "6f3d4652-1647-48af-96f1-ae75b9e92e84",
     "showTitle": false,
     "tableResultSettingsMap": {},
     "title": ""
    },
    "vscode": {
     "languageId": "python"
    }
   },
   "outputs": [
    {
     "output_type": "display_data",
     "data": {
      "text/html": [
       "<style scoped>\n",
       "  .table-result-container {\n",
       "    max-height: 300px;\n",
       "    overflow: auto;\n",
       "  }\n",
       "  table, th, td {\n",
       "    border: 1px solid black;\n",
       "    border-collapse: collapse;\n",
       "  }\n",
       "  th, td {\n",
       "    padding: 5px;\n",
       "  }\n",
       "  th {\n",
       "    text-align: left;\n",
       "  }\n",
       "</style><div class='table-result-container'><table class='table-result'><thead style='background-color: white'><tr><th>C_CUSTKEY</th><th>C_NAME</th><th>C_ADDRESS</th><th>C_NATIONKEY</th><th>C_PHONE</th><th>C_ACCTBAL</th><th>C_MKTSEGMENT</th><th>C_COMMENT</th><th>timestamp</th></tr></thead><tbody><tr><td>34136</td><td>Customer#000034136</td><td>UjBY ZyJnHesu0bxL0VEvU1t1A</td><td>0</td><td>10-863-612-2949</td><td>3397.87</td><td>BUILDING</td><td>es. furiously fluffy instructions </td><td>2025-07-14T04:40:31.607Z</td></tr><tr><td>31731</td><td>Customer#000031731</td><td>Zq9KcCB7jMCIGMj32les8l9QR4laAZyaxWga6</td><td>0</td><td>10-250-546-6987</td><td>8466.07</td><td>FURNITURE</td><td>counts lose quickly at the blithely regular dependencies</td><td>2025-07-14T04:40:31.607Z</td></tr><tr><td>33511</td><td>Customer#000033511</td><td>bz2D0HrwQiaz</td><td>0</td><td>10-618-323-6263</td><td>5331.22</td><td>AUTOMOBILE</td><td>ons are slyly instructions. carefully final theodolites </td><td>2025-07-14T04:40:31.607Z</td></tr><tr><td>45695</td><td>Customer#000045695</td><td>Oc2Yin5Gcqudb6RGEWEfJPTKcUNqOOrVC147</td><td>0</td><td>10-414-601-9544</td><td>5340.52</td><td>AUTOMOBILE</td><td>riously furious pinto beans cajole carefully express ideas. even re</td><td>2025-07-14T04:40:31.607Z</td></tr><tr><td>36768</td><td>Customer#000036768</td><td>,8Q8TZ48Wme</td><td>0</td><td>10-950-600-3087</td><td>9229.21</td><td>MACHINERY</td><td>ounts engage quickly sly accounts. carefully ironic accounts na</td><td>2025-07-14T04:40:31.607Z</td></tr><tr><td>37449</td><td>Customer#000037449</td><td>kSezsusukDqm37pMNI0bRMFUDyH6h0GekQbTfl</td><td>0</td><td>10-231-238-1522</td><td>1173.53</td><td>AUTOMOBILE</td><td>ding dependencies shall promise ironic deposits. carefully special braids haggle blithely regular pac</td><td>2025-07-14T04:40:31.607Z</td></tr><tr><td>46970</td><td>Customer#000046970</td><td>uZbY1HQYjGobtk8ppkV</td><td>0</td><td>10-361-617-6664</td><td>8689.85</td><td>AUTOMOBILE</td><td>xes boost furiously regular platelets. sly, unusual platelets along the blithely special requests are</td><td>2025-07-14T04:40:31.607Z</td></tr><tr><td>29109</td><td>Customer#000029109</td><td>FG6PVFkL69,LZWcl4JvrVrMVBUDmckSRadTylcua</td><td>0</td><td>10-770-489-7404</td><td>1939.54</td><td>AUTOMOBILE</td><td> above the furiously regular theodolite</td><td>2025-07-14T04:40:31.607Z</td></tr><tr><td>43753</td><td>Customer#000043753</td><td>xWtHn81QCu6kSjIkdYyW4RNSoS0g9 </td><td>0</td><td>10-180-882-4254</td><td>4975.15</td><td>AUTOMOBILE</td><td>sts-- idly final forges according to the foxes use fluffily alongside of the carefully ironic packag</td><td>2025-07-14T04:40:31.607Z</td></tr><tr><td>42429</td><td>Customer#000042429</td><td>g6AgY9ecZcwMhWvq5rT7qT gNFno5v4jG2ZrWq</td><td>0</td><td>10-616-749-7989</td><td>5345.32</td><td>BUILDING</td><td>ing to the slyly pending requests. sentiments are furiously across the qui</td><td>2025-07-14T04:40:31.607Z</td></tr><tr><td>36275</td><td>Customer#000036275</td><td>E8sUk JvbTBsVTiCyEXv1JZ0Lx zmhqR8nVi</td><td>0</td><td>10-917-153-3194</td><td>2896.40</td><td>MACHINERY</td><td> the slyly final accounts. carefully regular hockey play</td><td>2025-07-14T04:40:31.607Z</td></tr><tr><td>46115</td><td>Customer#000046115</td><td>wpXSHZS9mn5 5WVlf3NNHTILQxi,x</td><td>0</td><td>10-164-291-1740</td><td>4025.32</td><td>AUTOMOBILE</td><td>ounts haggle. quickly even dependencies about the even dugouts detect permanently regular acc</td><td>2025-07-14T04:40:31.607Z</td></tr><tr><td>30146</td><td>Customer#000030146</td><td>vPzggYmFJHm2KQhqYcjREvfLHwwYPLo</td><td>0</td><td>10-122-532-7630</td><td>1005.56</td><td>MACHINERY</td><td>bold accounts. unusual theodolites wake slyly. regular packages wake ab</td><td>2025-07-14T04:40:31.607Z</td></tr><tr><td>36604</td><td>Customer#000036604</td><td>WLfEQJ0TFy L1rEkcQFTa9PR</td><td>0</td><td>10-237-900-6581</td><td>6101.79</td><td>MACHINERY</td><td>kly even deposits boost furiously </td><td>2025-07-14T04:40:31.607Z</td></tr><tr><td>50269</td><td>Customer#000050269</td><td>jf5OU RM lBdHvIdgAjttWZr11UFFr5Gx</td><td>0</td><td>10-285-307-7326</td><td>4611.11</td><td>FURNITURE</td><td>al packages. blithely express pinto beans sleep carefully even depths.</td><td>2025-07-14T04:40:31.607Z</td></tr><tr><td>39421</td><td>Customer#000039421</td><td>YibM2 jsd0Mch4aeEI0CZ wiH3F9EL2nZB6</td><td>0</td><td>10-834-134-9804</td><td>7760.70</td><td>MACHINERY</td><td>s. furiously express packages about the fluffily blithe accounts haggle perm</td><td>2025-07-14T04:40:31.607Z</td></tr><tr><td>30927</td><td>Customer#000030927</td><td>olXh1YgfWewuGAB4JjXLzY u</td><td>0</td><td>10-885-383-7508</td><td>3741.04</td><td>HOUSEHOLD</td><td>ackages haggle: unusual excuses cajole among the slyly final deposits. always ironic </td><td>2025-07-14T04:40:31.607Z</td></tr><tr><td>42329</td><td>Customer#000042329</td><td>GZJV4Hh87scLrekx</td><td>0</td><td>10-249-846-1521</td><td>2041.98</td><td>HOUSEHOLD</td><td>oxes. even deposits above the busily bold deposits eat carefully furiously regular</td><td>2025-07-14T04:40:31.607Z</td></tr><tr><td>31389</td><td>Customer#000031389</td><td>KGunKxxJVZUuzfLrF4K4 rsMA9l9xrmwbpt</td><td>0</td><td>10-954-427-2063</td><td>464.19</td><td>AUTOMOBILE</td><td>c requests. carefully final asymptotes wake. carefully final in</td><td>2025-07-14T04:40:31.607Z</td></tr><tr><td>36596</td><td>Customer#000036596</td><td>zFQDNWMS 2XZkPwBZqNd96FaPedNPqZ7FHr</td><td>0</td><td>10-865-871-2941</td><td>1614.81</td><td>BUILDING</td><td> theodolites. fluffily final theodolites above the furiousl</td><td>2025-07-14T04:40:31.607Z</td></tr><tr><td>32281</td><td>Customer#000032281</td><td>Qss2nhelY28ljgT0og41BzaD43j5Hf</td><td>0</td><td>10-554-547-5598</td><td>-332.84</td><td>HOUSEHOLD</td><td>ve the even, ironic notornis believe blithely about the car</td><td>2025-07-14T04:40:31.607Z</td></tr><tr><td>29416</td><td>Customer#000029416</td><td>GnunA BpDSNBtri</td><td>0</td><td>10-592-937-6045</td><td>-354.12</td><td>AUTOMOBILE</td><td>uses print quickly quickly pending pinto beans. regular requests wake slyly around the carefully</td><td>2025-07-14T04:40:31.607Z</td></tr><tr><td>27694</td><td>Customer#000027694</td><td>Bu7eYu7Od6stFFhI1lPq94MYzZtQvM2C</td><td>0</td><td>10-503-219-7354</td><td>-532.60</td><td>BUILDING</td><td>cajole along the furiously final ideas. carefully even packages wake pinto beans. slyly i</td><td>2025-07-14T04:40:31.607Z</td></tr><tr><td>47754</td><td>Customer#000047754</td><td>DkBktfdMrcnP8ng,uFcHu6HDMxfklPT7PR9</td><td>0</td><td>10-345-815-9749</td><td>9960.50</td><td>AUTOMOBILE</td><td>ely express instructions. ideas boost fluffily at the blithely bold platelets. blithely even requests wake blith</td><td>2025-07-14T04:40:31.607Z</td></tr><tr><td>33222</td><td>Customer#000033222</td><td>yTY0U6n6WHeZn3koPic2QbRxFYrpsu2DTrO98m</td><td>0</td><td>10-771-636-6421</td><td>-255.49</td><td>MACHINERY</td><td>. slyly ironic requests cajole carefully. express dugouts kindle furiously carefully </td><td>2025-07-14T04:40:31.607Z</td></tr><tr><td>28571</td><td>Customer#000028571</td><td>UTg5Nc bm4XgaSsbMyDp0Mt2Bs</td><td>0</td><td>10-618-354-2577</td><td>9981.57</td><td>FURNITURE</td><td>ccounts. ironic platelets haggle carefully pinto beans. unusual, e</td><td>2025-07-14T04:40:31.607Z</td></tr><tr><td>29954</td><td>Customer#000029954</td><td>zpMifqiFFasX579</td><td>0</td><td>10-922-358-7066</td><td>8776.35</td><td>BUILDING</td><td>osits wake slyly among the blithely pending ideas. ironic dependen</td><td>2025-07-14T04:40:31.607Z</td></tr><tr><td>33762</td><td>Customer#000033762</td><td>B,u5svade CmUye0Os3Jcwk,bC4fxxfv2</td><td>0</td><td>10-107-432-7468</td><td>452.07</td><td>HOUSEHOLD</td><td>tructions. unusual packages cajole blithely about the furiously pending instructions! q</td><td>2025-07-14T04:40:31.607Z</td></tr><tr><td>43742</td><td>Customer#000043742</td><td>4GCYgX6sYA91xwEmPMZpqKCcQH</td><td>0</td><td>10-163-516-3952</td><td>2115.16</td><td>HOUSEHOLD</td><td> dependencies hinder quickly of the requests. sometimes special instructions haggle</td><td>2025-07-14T04:40:31.607Z</td></tr><tr><td>27015</td><td>Customer#000027015</td><td>0DVceyJqSxV LbwMRD1L6t5gZMbp8Nqkwd</td><td>0</td><td>10-514-576-2995</td><td>6057.52</td><td>AUTOMOBILE</td><td>ns cajole furiously requests. furiously special instructions are s</td><td>2025-07-14T04:40:31.607Z</td></tr><tr><td>40901</td><td>Customer#000040901</td><td>HBC6dq4va5RbV 4H</td><td>0</td><td>10-157-948-8612</td><td>4928.51</td><td>HOUSEHOLD</td><td>unusual asymptotes integrate quickly regular platelets</td><td>2025-07-14T04:40:31.607Z</td></tr><tr><td>29258</td><td>Customer#000029258</td><td>W7OGl90 Zw</td><td>0</td><td>10-912-388-9055</td><td>924.37</td><td>AUTOMOBILE</td><td> the furiously special gifts. foxes haggle quickly. blit</td><td>2025-07-14T04:40:31.607Z</td></tr><tr><td>43950</td><td>Customer#000043950</td><td>I4qflII781s3MxWBxWow</td><td>0</td><td>10-689-754-4752</td><td>2343.66</td><td>MACHINERY</td><td>carefully final pinto beans use bold, express dependencies. slyly pending requests a</td><td>2025-07-14T04:40:31.607Z</td></tr><tr><td>30312</td><td>Customer#000030312</td><td>Yn9gi1OIdeu</td><td>0</td><td>10-132-906-7292</td><td>2148.88</td><td>AUTOMOBILE</td><td>ic pinto beans are blithely. even, final accounts nag ab</td><td>2025-07-14T04:40:31.607Z</td></tr><tr><td>34398</td><td>Customer#000034398</td><td>Z1,vljBqx2a6Wfl6haD8L9bwFaLHgC3sno</td><td>0</td><td>10-721-503-3204</td><td>1287.88</td><td>MACHINERY</td><td>ole. carefully even theodolites hang slyly. pending, bold accounts haggle slyly around the ironic de</td><td>2025-07-14T04:40:31.607Z</td></tr><tr><td>40606</td><td>Customer#000040606</td><td>BFylQibv2H2Wa91Z5gjfAQbC8CivlFl</td><td>0</td><td>10-398-271-6970</td><td>693.11</td><td>BUILDING</td><td>never regular deposits sleep furiously. regular requests haggle. fluffily regular escapades haggle furiou</td><td>2025-07-14T04:40:31.607Z</td></tr><tr><td>30631</td><td>Customer#000030631</td><td>qYVyoBygEVbuHRDeGBoOFfvk2</td><td>0</td><td>10-478-227-1746</td><td>4415.49</td><td>HOUSEHOLD</td><td>ges. ironic, express requests through the carefully ironic deposits wake after the carefully unusu</td><td>2025-07-14T04:40:31.607Z</td></tr><tr><td>42460</td><td>Customer#000042460</td><td>0fSBt9,0O8</td><td>0</td><td>10-752-721-4581</td><td>9869.65</td><td>AUTOMOBILE</td><td>its boost blithely daringly regular ideas. ironic instructions may cajole. even foxes inside the pending requests</td><td>2025-07-14T04:40:31.607Z</td></tr><tr><td>40966</td><td>Customer#000040966</td><td>ZQGCP9iCFxYS9NYlH2,YnS4sRqAA17Yp</td><td>0</td><td>10-804-526-4415</td><td>8671.88</td><td>BUILDING</td><td> special, regular accounts could affix carefully carefully special warthogs; </td><td>2025-07-14T04:40:31.607Z</td></tr><tr><td>27052</td><td>Customer#000027052</td><td>O6onGLgwW7eVclrkCbM</td><td>0</td><td>10-726-789-9359</td><td>5543.79</td><td>MACHINERY</td><td>theodolites cajole. idly pendin</td><td>2025-07-14T04:40:31.607Z</td></tr><tr><td>35202</td><td>Customer#000035202</td><td>4B,4x0AzoBtJ8CVkOs W70C7xCGajlbS0qso</td><td>0</td><td>10-611-301-4590</td><td>4244.74</td><td>MACHINERY</td><td>olites. bold ideas hinder. carefully express </td><td>2025-07-14T04:40:31.607Z</td></tr><tr><td>41392</td><td>Customer#000041392</td><td>rgBCCsLxKf4BQ9aZQsptOAvA6jZX</td><td>0</td><td>10-557-804-1623</td><td>3605.45</td><td>HOUSEHOLD</td><td> packages. special packages against the finally even packages are furiously quickly silent instructions. theod</td><td>2025-07-14T04:40:31.607Z</td></tr><tr><td>35099</td><td>Customer#000035099</td><td>9NOm8lCNTtPQPOHl3</td><td>0</td><td>10-978-962-2730</td><td>-590.67</td><td>MACHINERY</td><td>he even, ironic packages haggle blithely accounts. slyly regular pains sleep. ironic, pending pearls e</td><td>2025-07-14T04:40:31.607Z</td></tr><tr><td>30755</td><td>Customer#000030755</td><td>ib2sf3Ys,a</td><td>0</td><td>10-710-205-7663</td><td>-618.76</td><td>HOUSEHOLD</td><td>accounts: furiously ironic foxes about the quickly regular instructions sleep</td><td>2025-07-14T04:40:31.607Z</td></tr><tr><td>43632</td><td>Customer#000043632</td><td>6WHRs shfxyKwJM9EvoI,gFtW6</td><td>0</td><td>10-987-113-3751</td><td>5623.79</td><td>MACHINERY</td><td>nd the attainments: slyly pending ideas cajole slyly along the carefully </td><td>2025-07-14T04:40:31.607Z</td></tr><tr><td>30877</td><td>Customer#000030877</td><td> 03roLs7OBgacEUqvlTKN3FjO8y4aKl0tHYM2</td><td>0</td><td>10-769-398-1237</td><td>7054.78</td><td>FURNITURE</td><td>efully regular accounts. regular, even theo</td><td>2025-07-14T04:40:31.607Z</td></tr><tr><td>26260</td><td>Customer#000026260</td><td>OacqvWg Mm5u</td><td>0</td><td>10-503-252-2199</td><td>1569.60</td><td>FURNITURE</td><td>raids. carefully bold accounts wake fluffily blithely regular epitaphs. deposits unwind slyly. fluffily final ins</td><td>2025-07-14T04:40:31.607Z</td></tr><tr><td>35032</td><td>Customer#000035032</td><td>hh91FhqkEik9XJw3</td><td>0</td><td>10-777-810-1556</td><td>4693.30</td><td>FURNITURE</td><td>ironic, ironic pinto beans run-- quietly express ins</td><td>2025-07-14T04:40:31.607Z</td></tr><tr><td>30809</td><td>Customer#000030809</td><td>2,cvHcZWaRaI7bN</td><td>0</td><td>10-301-598-9746</td><td>2797.82</td><td>MACHINERY</td><td>uietly. unusual, regular theodolites play slyly. pending dinos against the regul</td><td>2025-07-14T04:40:31.607Z</td></tr><tr><td>47572</td><td>Customer#000047572</td><td>mjTs3URr5lpnDm6ZKk2</td><td>0</td><td>10-864-262-1749</td><td>3002.34</td><td>MACHINERY</td><td>ts. express, special foxes sleep ruthlessly around the fluffily </td><td>2025-07-14T04:40:31.607Z</td></tr></tbody></table></div>"
      ]
     },
     "metadata": {
      "application/vnd.databricks.v1+output": {
       "addedWidgets": {},
       "aggData": [],
       "aggError": "",
       "aggOverflow": false,
       "aggSchema": [],
       "aggSeriesLimitReached": false,
       "aggType": "",
       "arguments": {},
       "columnCustomDisplayInfos": {},
       "data": [
        [
         34136,
         "Customer#000034136",
         "UjBY ZyJnHesu0bxL0VEvU1t1A",
         0,
         "10-863-612-2949",
         "3397.87",
         "BUILDING",
         "es. furiously fluffy instructions ",
         "2025-07-14T04:40:31.607Z"
        ],
        [
         31731,
         "Customer#000031731",
         "Zq9KcCB7jMCIGMj32les8l9QR4laAZyaxWga6",
         0,
         "10-250-546-6987",
         "8466.07",
         "FURNITURE",
         "counts lose quickly at the blithely regular dependencies",
         "2025-07-14T04:40:31.607Z"
        ],
        [
         33511,
         "Customer#000033511",
         "bz2D0HrwQiaz",
         0,
         "10-618-323-6263",
         "5331.22",
         "AUTOMOBILE",
         "ons are slyly instructions. carefully final theodolites ",
         "2025-07-14T04:40:31.607Z"
        ],
        [
         45695,
         "Customer#000045695",
         "Oc2Yin5Gcqudb6RGEWEfJPTKcUNqOOrVC147",
         0,
         "10-414-601-9544",
         "5340.52",
         "AUTOMOBILE",
         "riously furious pinto beans cajole carefully express ideas. even re",
         "2025-07-14T04:40:31.607Z"
        ],
        [
         36768,
         "Customer#000036768",
         ",8Q8TZ48Wme",
         0,
         "10-950-600-3087",
         "9229.21",
         "MACHINERY",
         "ounts engage quickly sly accounts. carefully ironic accounts na",
         "2025-07-14T04:40:31.607Z"
        ],
        [
         37449,
         "Customer#000037449",
         "kSezsusukDqm37pMNI0bRMFUDyH6h0GekQbTfl",
         0,
         "10-231-238-1522",
         "1173.53",
         "AUTOMOBILE",
         "ding dependencies shall promise ironic deposits. carefully special braids haggle blithely regular pac",
         "2025-07-14T04:40:31.607Z"
        ],
        [
         46970,
         "Customer#000046970",
         "uZbY1HQYjGobtk8ppkV",
         0,
         "10-361-617-6664",
         "8689.85",
         "AUTOMOBILE",
         "xes boost furiously regular platelets. sly, unusual platelets along the blithely special requests are",
         "2025-07-14T04:40:31.607Z"
        ],
        [
         29109,
         "Customer#000029109",
         "FG6PVFkL69,LZWcl4JvrVrMVBUDmckSRadTylcua",
         0,
         "10-770-489-7404",
         "1939.54",
         "AUTOMOBILE",
         " above the furiously regular theodolite",
         "2025-07-14T04:40:31.607Z"
        ],
        [
         43753,
         "Customer#000043753",
         "xWtHn81QCu6kSjIkdYyW4RNSoS0g9 ",
         0,
         "10-180-882-4254",
         "4975.15",
         "AUTOMOBILE",
         "sts-- idly final forges according to the foxes use fluffily alongside of the carefully ironic packag",
         "2025-07-14T04:40:31.607Z"
        ],
        [
         42429,
         "Customer#000042429",
         "g6AgY9ecZcwMhWvq5rT7qT gNFno5v4jG2ZrWq",
         0,
         "10-616-749-7989",
         "5345.32",
         "BUILDING",
         "ing to the slyly pending requests. sentiments are furiously across the qui",
         "2025-07-14T04:40:31.607Z"
        ],
        [
         36275,
         "Customer#000036275",
         "E8sUk JvbTBsVTiCyEXv1JZ0Lx zmhqR8nVi",
         0,
         "10-917-153-3194",
         "2896.40",
         "MACHINERY",
         " the slyly final accounts. carefully regular hockey play",
         "2025-07-14T04:40:31.607Z"
        ],
        [
         46115,
         "Customer#000046115",
         "wpXSHZS9mn5 5WVlf3NNHTILQxi,x",
         0,
         "10-164-291-1740",
         "4025.32",
         "AUTOMOBILE",
         "ounts haggle. quickly even dependencies about the even dugouts detect permanently regular acc",
         "2025-07-14T04:40:31.607Z"
        ],
        [
         30146,
         "Customer#000030146",
         "vPzggYmFJHm2KQhqYcjREvfLHwwYPLo",
         0,
         "10-122-532-7630",
         "1005.56",
         "MACHINERY",
         "bold accounts. unusual theodolites wake slyly. regular packages wake ab",
         "2025-07-14T04:40:31.607Z"
        ],
        [
         36604,
         "Customer#000036604",
         "WLfEQJ0TFy L1rEkcQFTa9PR",
         0,
         "10-237-900-6581",
         "6101.79",
         "MACHINERY",
         "kly even deposits boost furiously ",
         "2025-07-14T04:40:31.607Z"
        ],
        [
         50269,
         "Customer#000050269",
         "jf5OU RM lBdHvIdgAjttWZr11UFFr5Gx",
         0,
         "10-285-307-7326",
         "4611.11",
         "FURNITURE",
         "al packages. blithely express pinto beans sleep carefully even depths.",
         "2025-07-14T04:40:31.607Z"
        ],
        [
         39421,
         "Customer#000039421",
         "YibM2 jsd0Mch4aeEI0CZ wiH3F9EL2nZB6",
         0,
         "10-834-134-9804",
         "7760.70",
         "MACHINERY",
         "s. furiously express packages about the fluffily blithe accounts haggle perm",
         "2025-07-14T04:40:31.607Z"
        ],
        [
         30927,
         "Customer#000030927",
         "olXh1YgfWewuGAB4JjXLzY u",
         0,
         "10-885-383-7508",
         "3741.04",
         "HOUSEHOLD",
         "ackages haggle: unusual excuses cajole among the slyly final deposits. always ironic ",
         "2025-07-14T04:40:31.607Z"
        ],
        [
         42329,
         "Customer#000042329",
         "GZJV4Hh87scLrekx",
         0,
         "10-249-846-1521",
         "2041.98",
         "HOUSEHOLD",
         "oxes. even deposits above the busily bold deposits eat carefully furiously regular",
         "2025-07-14T04:40:31.607Z"
        ],
        [
         31389,
         "Customer#000031389",
         "KGunKxxJVZUuzfLrF4K4 rsMA9l9xrmwbpt",
         0,
         "10-954-427-2063",
         "464.19",
         "AUTOMOBILE",
         "c requests. carefully final asymptotes wake. carefully final in",
         "2025-07-14T04:40:31.607Z"
        ],
        [
         36596,
         "Customer#000036596",
         "zFQDNWMS 2XZkPwBZqNd96FaPedNPqZ7FHr",
         0,
         "10-865-871-2941",
         "1614.81",
         "BUILDING",
         " theodolites. fluffily final theodolites above the furiousl",
         "2025-07-14T04:40:31.607Z"
        ],
        [
         32281,
         "Customer#000032281",
         "Qss2nhelY28ljgT0og41BzaD43j5Hf",
         0,
         "10-554-547-5598",
         "-332.84",
         "HOUSEHOLD",
         "ve the even, ironic notornis believe blithely about the car",
         "2025-07-14T04:40:31.607Z"
        ],
        [
         29416,
         "Customer#000029416",
         "GnunA BpDSNBtri",
         0,
         "10-592-937-6045",
         "-354.12",
         "AUTOMOBILE",
         "uses print quickly quickly pending pinto beans. regular requests wake slyly around the carefully",
         "2025-07-14T04:40:31.607Z"
        ],
        [
         27694,
         "Customer#000027694",
         "Bu7eYu7Od6stFFhI1lPq94MYzZtQvM2C",
         0,
         "10-503-219-7354",
         "-532.60",
         "BUILDING",
         "cajole along the furiously final ideas. carefully even packages wake pinto beans. slyly i",
         "2025-07-14T04:40:31.607Z"
        ],
        [
         47754,
         "Customer#000047754",
         "DkBktfdMrcnP8ng,uFcHu6HDMxfklPT7PR9",
         0,
         "10-345-815-9749",
         "9960.50",
         "AUTOMOBILE",
         "ely express instructions. ideas boost fluffily at the blithely bold platelets. blithely even requests wake blith",
         "2025-07-14T04:40:31.607Z"
        ],
        [
         33222,
         "Customer#000033222",
         "yTY0U6n6WHeZn3koPic2QbRxFYrpsu2DTrO98m",
         0,
         "10-771-636-6421",
         "-255.49",
         "MACHINERY",
         ". slyly ironic requests cajole carefully. express dugouts kindle furiously carefully ",
         "2025-07-14T04:40:31.607Z"
        ],
        [
         28571,
         "Customer#000028571",
         "UTg5Nc bm4XgaSsbMyDp0Mt2Bs",
         0,
         "10-618-354-2577",
         "9981.57",
         "FURNITURE",
         "ccounts. ironic platelets haggle carefully pinto beans. unusual, e",
         "2025-07-14T04:40:31.607Z"
        ],
        [
         29954,
         "Customer#000029954",
         "zpMifqiFFasX579",
         0,
         "10-922-358-7066",
         "8776.35",
         "BUILDING",
         "osits wake slyly among the blithely pending ideas. ironic dependen",
         "2025-07-14T04:40:31.607Z"
        ],
        [
         33762,
         "Customer#000033762",
         "B,u5svade CmUye0Os3Jcwk,bC4fxxfv2",
         0,
         "10-107-432-7468",
         "452.07",
         "HOUSEHOLD",
         "tructions. unusual packages cajole blithely about the furiously pending instructions! q",
         "2025-07-14T04:40:31.607Z"
        ],
        [
         43742,
         "Customer#000043742",
         "4GCYgX6sYA91xwEmPMZpqKCcQH",
         0,
         "10-163-516-3952",
         "2115.16",
         "HOUSEHOLD",
         " dependencies hinder quickly of the requests. sometimes special instructions haggle",
         "2025-07-14T04:40:31.607Z"
        ],
        [
         27015,
         "Customer#000027015",
         "0DVceyJqSxV LbwMRD1L6t5gZMbp8Nqkwd",
         0,
         "10-514-576-2995",
         "6057.52",
         "AUTOMOBILE",
         "ns cajole furiously requests. furiously special instructions are s",
         "2025-07-14T04:40:31.607Z"
        ],
        [
         40901,
         "Customer#000040901",
         "HBC6dq4va5RbV 4H",
         0,
         "10-157-948-8612",
         "4928.51",
         "HOUSEHOLD",
         "unusual asymptotes integrate quickly regular platelets",
         "2025-07-14T04:40:31.607Z"
        ],
        [
         29258,
         "Customer#000029258",
         "W7OGl90 Zw",
         0,
         "10-912-388-9055",
         "924.37",
         "AUTOMOBILE",
         " the furiously special gifts. foxes haggle quickly. blit",
         "2025-07-14T04:40:31.607Z"
        ],
        [
         43950,
         "Customer#000043950",
         "I4qflII781s3MxWBxWow",
         0,
         "10-689-754-4752",
         "2343.66",
         "MACHINERY",
         "carefully final pinto beans use bold, express dependencies. slyly pending requests a",
         "2025-07-14T04:40:31.607Z"
        ],
        [
         30312,
         "Customer#000030312",
         "Yn9gi1OIdeu",
         0,
         "10-132-906-7292",
         "2148.88",
         "AUTOMOBILE",
         "ic pinto beans are blithely. even, final accounts nag ab",
         "2025-07-14T04:40:31.607Z"
        ],
        [
         34398,
         "Customer#000034398",
         "Z1,vljBqx2a6Wfl6haD8L9bwFaLHgC3sno",
         0,
         "10-721-503-3204",
         "1287.88",
         "MACHINERY",
         "ole. carefully even theodolites hang slyly. pending, bold accounts haggle slyly around the ironic de",
         "2025-07-14T04:40:31.607Z"
        ],
        [
         40606,
         "Customer#000040606",
         "BFylQibv2H2Wa91Z5gjfAQbC8CivlFl",
         0,
         "10-398-271-6970",
         "693.11",
         "BUILDING",
         "never regular deposits sleep furiously. regular requests haggle. fluffily regular escapades haggle furiou",
         "2025-07-14T04:40:31.607Z"
        ],
        [
         30631,
         "Customer#000030631",
         "qYVyoBygEVbuHRDeGBoOFfvk2",
         0,
         "10-478-227-1746",
         "4415.49",
         "HOUSEHOLD",
         "ges. ironic, express requests through the carefully ironic deposits wake after the carefully unusu",
         "2025-07-14T04:40:31.607Z"
        ],
        [
         42460,
         "Customer#000042460",
         "0fSBt9,0O8",
         0,
         "10-752-721-4581",
         "9869.65",
         "AUTOMOBILE",
         "its boost blithely daringly regular ideas. ironic instructions may cajole. even foxes inside the pending requests",
         "2025-07-14T04:40:31.607Z"
        ],
        [
         40966,
         "Customer#000040966",
         "ZQGCP9iCFxYS9NYlH2,YnS4sRqAA17Yp",
         0,
         "10-804-526-4415",
         "8671.88",
         "BUILDING",
         " special, regular accounts could affix carefully carefully special warthogs; ",
         "2025-07-14T04:40:31.607Z"
        ],
        [
         27052,
         "Customer#000027052",
         "O6onGLgwW7eVclrkCbM",
         0,
         "10-726-789-9359",
         "5543.79",
         "MACHINERY",
         "theodolites cajole. idly pendin",
         "2025-07-14T04:40:31.607Z"
        ],
        [
         35202,
         "Customer#000035202",
         "4B,4x0AzoBtJ8CVkOs W70C7xCGajlbS0qso",
         0,
         "10-611-301-4590",
         "4244.74",
         "MACHINERY",
         "olites. bold ideas hinder. carefully express ",
         "2025-07-14T04:40:31.607Z"
        ],
        [
         41392,
         "Customer#000041392",
         "rgBCCsLxKf4BQ9aZQsptOAvA6jZX",
         0,
         "10-557-804-1623",
         "3605.45",
         "HOUSEHOLD",
         " packages. special packages against the finally even packages are furiously quickly silent instructions. theod",
         "2025-07-14T04:40:31.607Z"
        ],
        [
         35099,
         "Customer#000035099",
         "9NOm8lCNTtPQPOHl3",
         0,
         "10-978-962-2730",
         "-590.67",
         "MACHINERY",
         "he even, ironic packages haggle blithely accounts. slyly regular pains sleep. ironic, pending pearls e",
         "2025-07-14T04:40:31.607Z"
        ],
        [
         30755,
         "Customer#000030755",
         "ib2sf3Ys,a",
         0,
         "10-710-205-7663",
         "-618.76",
         "HOUSEHOLD",
         "accounts: furiously ironic foxes about the quickly regular instructions sleep",
         "2025-07-14T04:40:31.607Z"
        ],
        [
         43632,
         "Customer#000043632",
         "6WHRs shfxyKwJM9EvoI,gFtW6",
         0,
         "10-987-113-3751",
         "5623.79",
         "MACHINERY",
         "nd the attainments: slyly pending ideas cajole slyly along the carefully ",
         "2025-07-14T04:40:31.607Z"
        ],
        [
         30877,
         "Customer#000030877",
         " 03roLs7OBgacEUqvlTKN3FjO8y4aKl0tHYM2",
         0,
         "10-769-398-1237",
         "7054.78",
         "FURNITURE",
         "efully regular accounts. regular, even theo",
         "2025-07-14T04:40:31.607Z"
        ],
        [
         26260,
         "Customer#000026260",
         "OacqvWg Mm5u",
         0,
         "10-503-252-2199",
         "1569.60",
         "FURNITURE",
         "raids. carefully bold accounts wake fluffily blithely regular epitaphs. deposits unwind slyly. fluffily final ins",
         "2025-07-14T04:40:31.607Z"
        ],
        [
         35032,
         "Customer#000035032",
         "hh91FhqkEik9XJw3",
         0,
         "10-777-810-1556",
         "4693.30",
         "FURNITURE",
         "ironic, ironic pinto beans run-- quietly express ins",
         "2025-07-14T04:40:31.607Z"
        ],
        [
         30809,
         "Customer#000030809",
         "2,cvHcZWaRaI7bN",
         0,
         "10-301-598-9746",
         "2797.82",
         "MACHINERY",
         "uietly. unusual, regular theodolites play slyly. pending dinos against the regul",
         "2025-07-14T04:40:31.607Z"
        ],
        [
         47572,
         "Customer#000047572",
         "mjTs3URr5lpnDm6ZKk2",
         0,
         "10-864-262-1749",
         "3002.34",
         "MACHINERY",
         "ts. express, special foxes sleep ruthlessly around the fluffily ",
         "2025-07-14T04:40:31.607Z"
        ]
       ],
       "datasetInfos": [
        {
         "name": "_sqldf",
         "schema": {
          "fields": [
           {
            "metadata": {},
            "name": "C_CUSTKEY",
            "nullable": true,
            "type": "integer"
           },
           {
            "metadata": {
             "HIVE_TYPE_STRING": "varchar(25)"
            },
            "name": "C_NAME",
            "nullable": true,
            "type": "string"
           },
           {
            "metadata": {
             "HIVE_TYPE_STRING": "varchar(40)"
            },
            "name": "C_ADDRESS",
            "nullable": true,
            "type": "string"
           },
           {
            "metadata": {},
            "name": "C_NATIONKEY",
            "nullable": true,
            "type": "integer"
           },
           {
            "metadata": {
             "HIVE_TYPE_STRING": "char(15)"
            },
            "name": "C_PHONE",
            "nullable": true,
            "type": "string"
           },
           {
            "metadata": {},
            "name": "C_ACCTBAL",
            "nullable": true,
            "type": "decimal(13,2)"
           },
           {
            "metadata": {
             "HIVE_TYPE_STRING": "char(10)"
            },
            "name": "C_MKTSEGMENT",
            "nullable": true,
            "type": "string"
           },
           {
            "metadata": {
             "HIVE_TYPE_STRING": "varchar(117)"
            },
            "name": "C_COMMENT",
            "nullable": true,
            "type": "string"
           },
           {
            "metadata": {},
            "name": "timestamp",
            "nullable": true,
            "type": "timestamp"
           }
          ],
          "type": "struct"
         },
         "tableIdentifier": null,
         "typeStr": "pyspark.sql.connect.dataframe.DataFrame"
        }
       ],
       "dbfsResultPath": null,
       "isJsonSchema": true,
       "metadata": {
        "createTempViewForImplicitDf": true,
        "dataframeName": "_sqldf",
        "executionCount": 12
       },
       "overflow": false,
       "plotOptions": {
        "customPlotOptions": {},
        "displayType": "table",
        "pivotAggregation": null,
        "pivotColumns": null,
        "xColumns": null,
        "yColumns": null
       },
       "removedWidgets": [],
       "schema": [
        {
         "metadata": "{}",
         "name": "C_CUSTKEY",
         "type": "\"integer\""
        },
        {
         "metadata": "{\"HIVE_TYPE_STRING\":\"varchar(25)\"}",
         "name": "C_NAME",
         "type": "\"string\""
        },
        {
         "metadata": "{\"HIVE_TYPE_STRING\":\"varchar(40)\"}",
         "name": "C_ADDRESS",
         "type": "\"string\""
        },
        {
         "metadata": "{}",
         "name": "C_NATIONKEY",
         "type": "\"integer\""
        },
        {
         "metadata": "{\"HIVE_TYPE_STRING\":\"char(15)\"}",
         "name": "C_PHONE",
         "type": "\"string\""
        },
        {
         "metadata": "{}",
         "name": "C_ACCTBAL",
         "type": "\"decimal(13,2)\""
        },
        {
         "metadata": "{\"HIVE_TYPE_STRING\":\"char(10)\"}",
         "name": "C_MKTSEGMENT",
         "type": "\"string\""
        },
        {
         "metadata": "{\"HIVE_TYPE_STRING\":\"varchar(117)\"}",
         "name": "C_COMMENT",
         "type": "\"string\""
        },
        {
         "metadata": "{}",
         "name": "timestamp",
         "type": "\"timestamp\""
        }
       ],
       "type": "table"
      }
     },
     "output_type": "display_data"
    }
   ],
   "source": [
    "%sql\n",
    "SELECT * FROM ag_us_east_2.`amit-tpchdb`.customer TIMESTAMP AS OF \"2025-07-14 05:25:52.0\" limit 50;"
   ]
  },
  {
   "cell_type": "code",
   "execution_count": 0,
   "metadata": {
    "application/vnd.databricks.v1+cell": {
     "cellMetadata": {
      "byteLimit": 2048000,
      "implicitDf": true,
      "rowLimit": 10000
     },
     "inputWidgets": {},
     "nuid": "6fec12f9-7f91-41a9-bf33-ea76d7ba43fe",
     "showTitle": false,
     "tableResultSettingsMap": {},
     "title": ""
    }
   },
   "outputs": [
    {
     "output_type": "display_data",
     "data": {
      "text/html": [
       "<style scoped>\n",
       "  .table-result-container {\n",
       "    max-height: 300px;\n",
       "    overflow: auto;\n",
       "  }\n",
       "  table, th, td {\n",
       "    border: 1px solid black;\n",
       "    border-collapse: collapse;\n",
       "  }\n",
       "  th, td {\n",
       "    padding: 5px;\n",
       "  }\n",
       "  th {\n",
       "    text-align: left;\n",
       "  }\n",
       "</style><div class='table-result-container'><table class='table-result'><thead style='background-color: white'><tr><th>num_affected_rows</th></tr></thead><tbody><tr><td>30141</td></tr></tbody></table></div>"
      ]
     },
     "metadata": {
      "application/vnd.databricks.v1+output": {
       "addedWidgets": {},
       "aggData": [],
       "aggError": "",
       "aggOverflow": false,
       "aggSchema": [],
       "aggSeriesLimitReached": false,
       "aggType": "",
       "arguments": {},
       "columnCustomDisplayInfos": {},
       "data": [
        [
         30141
        ]
       ],
       "datasetInfos": [
        {
         "name": "_sqldf",
         "schema": {
          "fields": [
           {
            "metadata": {},
            "name": "num_affected_rows",
            "nullable": true,
            "type": "long"
           }
          ],
          "type": "struct"
         },
         "tableIdentifier": null,
         "typeStr": "pyspark.sql.connect.dataframe.DataFrame"
        }
       ],
       "dbfsResultPath": null,
       "isJsonSchema": true,
       "metadata": {
        "createTempViewForImplicitDf": true,
        "dataframeName": "_sqldf",
        "executionCount": 20
       },
       "overflow": false,
       "plotOptions": {
        "customPlotOptions": {},
        "displayType": "table",
        "pivotAggregation": null,
        "pivotColumns": null,
        "xColumns": null,
        "yColumns": null
       },
       "removedWidgets": [],
       "schema": [
        {
         "metadata": "{}",
         "name": "num_affected_rows",
         "type": "\"long\""
        }
       ],
       "type": "table"
      }
     },
     "output_type": "display_data"
    }
   ],
   "source": [
    "%sql\n",
    "DELETE FROM ag_us_east_2.`amit-tpchdb`.customer where C_MKTSEGMENT=\"BUILDING\""
   ]
  },
  {
   "cell_type": "code",
   "execution_count": 0,
   "metadata": {
    "application/vnd.databricks.v1+cell": {
     "cellMetadata": {
      "byteLimit": 2048000,
      "rowLimit": 10000
     },
     "inputWidgets": {},
     "nuid": "36a92ebe-a0b4-4856-85f9-b97aa48e0c01",
     "showTitle": false,
     "tableResultSettingsMap": {},
     "title": ""
    },
    "vscode": {
     "languageId": "python"
    }
   },
   "outputs": [
    {
     "output_type": "stream",
     "name": "stdout",
     "output_type": "stream",
     "text": [
      "119858\n"
     ]
    }
   ],
   "source": [
    "df = spark.read \\\n",
    "  .format(\"delta\") \\\n",
    "  .option(\"versionAsOf\", \"5\") \\\n",
    "  .load(\"s3://aws-databricks-data-bucket-atin/data/Customer/delta\")\n",
    "print(df.count())"
   ]
  },
  {
   "cell_type": "code",
   "execution_count": 0,
   "metadata": {
    "application/vnd.databricks.v1+cell": {
     "cellMetadata": {
      "byteLimit": 2048000,
      "implicitDf": true,
      "rowLimit": 10000
     },
     "inputWidgets": {},
     "nuid": "1b9e2449-008e-4c09-82d1-ccb80df12c52",
     "showTitle": false,
     "tableResultSettingsMap": {},
     "title": ""
    },
    "vscode": {
     "languageId": "python"
    }
   },
   "outputs": [
    {
     "output_type": "display_data",
     "data": {
      "text/html": [
       "<style scoped>\n",
       "  .table-result-container {\n",
       "    max-height: 300px;\n",
       "    overflow: auto;\n",
       "  }\n",
       "  table, th, td {\n",
       "    border: 1px solid black;\n",
       "    border-collapse: collapse;\n",
       "  }\n",
       "  th, td {\n",
       "    padding: 5px;\n",
       "  }\n",
       "  th {\n",
       "    text-align: left;\n",
       "  }\n",
       "</style><div class='table-result-container'><table class='table-result'><thead style='background-color: white'><tr><th>count(1)</th></tr></thead><tbody><tr><td>150000</td></tr></tbody></table></div>"
      ]
     },
     "metadata": {
      "application/vnd.databricks.v1+output": {
       "addedWidgets": {},
       "aggData": [],
       "aggError": "",
       "aggOverflow": false,
       "aggSchema": [],
       "aggSeriesLimitReached": false,
       "aggType": "",
       "arguments": {},
       "columnCustomDisplayInfos": {},
       "data": [
        [
         150000
        ]
       ],
       "datasetInfos": [
        {
         "name": "_sqldf",
         "schema": {
          "fields": [
           {
            "metadata": {
             "__autoGeneratedAlias": "true"
            },
            "name": "count(1)",
            "nullable": false,
            "type": "long"
           }
          ],
          "type": "struct"
         },
         "tableIdentifier": null,
         "typeStr": "pyspark.sql.connect.dataframe.DataFrame"
        }
       ],
       "dbfsResultPath": null,
       "isJsonSchema": true,
       "metadata": {
        "createTempViewForImplicitDf": true,
        "dataframeName": "_sqldf",
        "executionCount": 33
       },
       "overflow": false,
       "plotOptions": {
        "customPlotOptions": {},
        "displayType": "table",
        "pivotAggregation": null,
        "pivotColumns": null,
        "xColumns": null,
        "yColumns": null
       },
       "removedWidgets": [],
       "schema": [
        {
         "metadata": "{\"__autoGeneratedAlias\":\"true\"}",
         "name": "count(1)",
         "type": "\"long\""
        }
       ],
       "type": "table"
      }
     },
     "output_type": "display_data"
    }
   ],
   "source": [
    "%sql\n",
    "SELECT count(*) FROM ag_us_east_2.`amit-tpchdb`.customer"
   ]
  },
  {
   "cell_type": "code",
   "execution_count": 0,
   "metadata": {
    "application/vnd.databricks.v1+cell": {
     "cellMetadata": {
      "byteLimit": 2048000,
      "implicitDf": true,
      "rowLimit": 10000
     },
     "inputWidgets": {},
     "nuid": "381de964-1056-45c8-a041-87a0dc79edfa",
     "showTitle": false,
     "tableResultSettingsMap": {},
     "title": ""
    },
    "vscode": {
     "languageId": "python"
    }
   },
   "outputs": [
    {
     "output_type": "display_data",
     "data": {
      "text/html": [
       "<style scoped>\n",
       "  .table-result-container {\n",
       "    max-height: 300px;\n",
       "    overflow: auto;\n",
       "  }\n",
       "  table, th, td {\n",
       "    border: 1px solid black;\n",
       "    border-collapse: collapse;\n",
       "  }\n",
       "  th, td {\n",
       "    padding: 5px;\n",
       "  }\n",
       "  th {\n",
       "    text-align: left;\n",
       "  }\n",
       "</style><div class='table-result-container'><table class='table-result'><thead style='background-color: white'><tr><th>num_affected_rows</th><th>num_inserted_rows</th></tr></thead><tbody><tr><td>30142</td><td>30142</td></tr></tbody></table></div>"
      ]
     },
     "metadata": {
      "application/vnd.databricks.v1+output": {
       "addedWidgets": {},
       "aggData": [],
       "aggError": "",
       "aggOverflow": false,
       "aggSchema": [],
       "aggSeriesLimitReached": false,
       "aggType": "",
       "arguments": {},
       "columnCustomDisplayInfos": {},
       "data": [
        [
         30142,
         30142
        ]
       ],
       "datasetInfos": [
        {
         "name": "_sqldf",
         "schema": {
          "fields": [
           {
            "metadata": {},
            "name": "num_affected_rows",
            "nullable": true,
            "type": "long"
           },
           {
            "metadata": {},
            "name": "num_inserted_rows",
            "nullable": true,
            "type": "long"
           }
          ],
          "type": "struct"
         },
         "tableIdentifier": null,
         "typeStr": "pyspark.sql.connect.dataframe.DataFrame"
        }
       ],
       "dbfsResultPath": null,
       "isJsonSchema": true,
       "metadata": {
        "createTempViewForImplicitDf": true,
        "dataframeName": "_sqldf",
        "executionCount": 32
       },
       "overflow": false,
       "plotOptions": {
        "customPlotOptions": {},
        "displayType": "table",
        "pivotAggregation": null,
        "pivotColumns": null,
        "xColumns": null,
        "yColumns": null
       },
       "removedWidgets": [],
       "schema": [
        {
         "metadata": "{}",
         "name": "num_affected_rows",
         "type": "\"long\""
        },
        {
         "metadata": "{}",
         "name": "num_inserted_rows",
         "type": "\"long\""
        }
       ],
       "type": "table"
      }
     },
     "output_type": "display_data"
    }
   ],
   "source": [
    "%sql\n",
    "INSERT INTO ag_us_east_2.`amit-tpchdb`.customer\n",
    "SELECT * FROM ag_us_east_2.`amit-tpchdb`.customer TIMESTAMP AS OF \"2025-07-14 05:25:52.0\"\n",
    "WHERE C_MKTSEGMENT = 'BUILDING'"
   ]
  }
 ],
 "metadata": {
  "application/vnd.databricks.v1+notebook": {
   "computePreferences": null,
   "dashboards": [],
   "environmentMetadata": null,
   "inputWidgetPreferences": null,
   "language": "python",
   "notebookMetadata": {
    "mostRecentlyExecutedCommandWithImplicitDF": {
     "commandId": 1088945688976401,
     "dataframes": [
      "_sqldf"
     ]
    },
    "pythonIndentUnit": 2
   },
   "notebookName": "09-DeltaTableVersioning",
   "widgets": {}
  },
  "kernelspec": {
   "display_name": "",
   "name": ""
  },
  "language_info": {
   "name": "python"
  }
 },
 "nbformat": 4,
 "nbformat_minor": 0
}