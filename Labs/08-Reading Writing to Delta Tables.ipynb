{
 "cells": [
  {
   "cell_type": "code",
   "execution_count": 0,
   "metadata": {
    "application/vnd.databricks.v1+cell": {
     "cellMetadata": {
      "byteLimit": 2048000,
      "rowLimit": 10000
     },
     "inputWidgets": {},
     "nuid": "df44a971-38fc-4044-845b-5406fd638d0d",
     "showTitle": false,
     "tableResultSettingsMap": {},
     "title": ""
    }
   },
   "outputs": [
    {
     "output_type": "display_data",
     "data": {
      "text/html": [
       "<style scoped>\n",
       "  .table-result-container {\n",
       "    max-height: 300px;\n",
       "    overflow: auto;\n",
       "  }\n",
       "  table, th, td {\n",
       "    border: 1px solid black;\n",
       "    border-collapse: collapse;\n",
       "  }\n",
       "  th, td {\n",
       "    padding: 5px;\n",
       "  }\n",
       "  th {\n",
       "    text-align: left;\n",
       "  }\n",
       "</style><div class='table-result-container'><table class='table-result'><thead style='background-color: white'><tr><th>path</th><th>name</th><th>size</th><th>modificationTime</th></tr></thead><tbody><tr><td>dbfs:/mnt/data/data/Customer/parquetFiles/part-00000-tid-7877307066025976411-3a62bd06-bc9c-467f-ae7b-d5db8ca40833-56-1-c000.snappy.parquet</td><td>part-00000-tid-7877307066025976411-3a62bd06-bc9c-467f-ae7b-d5db8ca40833-56-1-c000.snappy.parquet</td><td>1232348</td><td>1750844019000</td></tr><tr><td>dbfs:/mnt/data/data/Customer/parquetFiles/part-00001-tid-7877307066025976411-3a62bd06-bc9c-467f-ae7b-d5db8ca40833-57-1-c000.snappy.parquet</td><td>part-00001-tid-7877307066025976411-3a62bd06-bc9c-467f-ae7b-d5db8ca40833-57-1-c000.snappy.parquet</td><td>1232940</td><td>1750844021000</td></tr><tr><td>dbfs:/mnt/data/data/Customer/parquetFiles/part-00002-tid-7877307066025976411-3a62bd06-bc9c-467f-ae7b-d5db8ca40833-58-1-c000.snappy.parquet</td><td>part-00002-tid-7877307066025976411-3a62bd06-bc9c-467f-ae7b-d5db8ca40833-58-1-c000.snappy.parquet</td><td>1234397</td><td>1750844022000</td></tr><tr><td>dbfs:/mnt/data/data/Customer/parquetFiles/part-00003-tid-7877307066025976411-3a62bd06-bc9c-467f-ae7b-d5db8ca40833-59-1-c000.snappy.parquet</td><td>part-00003-tid-7877307066025976411-3a62bd06-bc9c-467f-ae7b-d5db8ca40833-59-1-c000.snappy.parquet</td><td>1233382</td><td>1750844026000</td></tr><tr><td>dbfs:/mnt/data/data/Customer/parquetFiles/part-00004-tid-7877307066025976411-3a62bd06-bc9c-467f-ae7b-d5db8ca40833-60-1-c000.snappy.parquet</td><td>part-00004-tid-7877307066025976411-3a62bd06-bc9c-467f-ae7b-d5db8ca40833-60-1-c000.snappy.parquet</td><td>1232687</td><td>1750844024000</td></tr><tr><td>dbfs:/mnt/data/data/Customer/parquetFiles/part-00005-tid-7877307066025976411-3a62bd06-bc9c-467f-ae7b-d5db8ca40833-61-1-c000.snappy.parquet</td><td>part-00005-tid-7877307066025976411-3a62bd06-bc9c-467f-ae7b-d5db8ca40833-61-1-c000.snappy.parquet</td><td>1235305</td><td>1750844027000</td></tr><tr><td>dbfs:/mnt/data/data/Customer/parquetFiles/part-00006-tid-7877307066025976411-3a62bd06-bc9c-467f-ae7b-d5db8ca40833-62-1-c000.snappy.parquet</td><td>part-00006-tid-7877307066025976411-3a62bd06-bc9c-467f-ae7b-d5db8ca40833-62-1-c000.snappy.parquet</td><td>1233292</td><td>1750844024000</td></tr><tr><td>dbfs:/mnt/data/data/Customer/parquetFiles/part-00007-tid-7877307066025976411-3a62bd06-bc9c-467f-ae7b-d5db8ca40833-63-1-c000.snappy.parquet</td><td>part-00007-tid-7877307066025976411-3a62bd06-bc9c-467f-ae7b-d5db8ca40833-63-1-c000.snappy.parquet</td><td>1233605</td><td>1750844027000</td></tr><tr><td>dbfs:/mnt/data/data/Customer/parquetFiles/part-00008-tid-7877307066025976411-3a62bd06-bc9c-467f-ae7b-d5db8ca40833-64-1-c000.snappy.parquet</td><td>part-00008-tid-7877307066025976411-3a62bd06-bc9c-467f-ae7b-d5db8ca40833-64-1-c000.snappy.parquet</td><td>1231438</td><td>1750844027000</td></tr><tr><td>dbfs:/mnt/data/data/Customer/parquetFiles/part-00009-tid-7877307066025976411-3a62bd06-bc9c-467f-ae7b-d5db8ca40833-65-1-c000.snappy.parquet</td><td>part-00009-tid-7877307066025976411-3a62bd06-bc9c-467f-ae7b-d5db8ca40833-65-1-c000.snappy.parquet</td><td>1238351</td><td>1750844029000</td></tr></tbody></table></div>"
      ]
     },
     "metadata": {
      "application/vnd.databricks.v1+output": {
       "addedWidgets": {},
       "aggData": [],
       "aggError": "",
       "aggOverflow": false,
       "aggSchema": [],
       "aggSeriesLimitReached": false,
       "aggType": "",
       "arguments": {},
       "columnCustomDisplayInfos": {},
       "data": [
        [
         "dbfs:/mnt/data/data/Customer/parquetFiles/part-00000-tid-7877307066025976411-3a62bd06-bc9c-467f-ae7b-d5db8ca40833-56-1-c000.snappy.parquet",
         "part-00000-tid-7877307066025976411-3a62bd06-bc9c-467f-ae7b-d5db8ca40833-56-1-c000.snappy.parquet",
         1232348,
         1750844019000
        ],
        [
         "dbfs:/mnt/data/data/Customer/parquetFiles/part-00001-tid-7877307066025976411-3a62bd06-bc9c-467f-ae7b-d5db8ca40833-57-1-c000.snappy.parquet",
         "part-00001-tid-7877307066025976411-3a62bd06-bc9c-467f-ae7b-d5db8ca40833-57-1-c000.snappy.parquet",
         1232940,
         1750844021000
        ],
        [
         "dbfs:/mnt/data/data/Customer/parquetFiles/part-00002-tid-7877307066025976411-3a62bd06-bc9c-467f-ae7b-d5db8ca40833-58-1-c000.snappy.parquet",
         "part-00002-tid-7877307066025976411-3a62bd06-bc9c-467f-ae7b-d5db8ca40833-58-1-c000.snappy.parquet",
         1234397,
         1750844022000
        ],
        [
         "dbfs:/mnt/data/data/Customer/parquetFiles/part-00003-tid-7877307066025976411-3a62bd06-bc9c-467f-ae7b-d5db8ca40833-59-1-c000.snappy.parquet",
         "part-00003-tid-7877307066025976411-3a62bd06-bc9c-467f-ae7b-d5db8ca40833-59-1-c000.snappy.parquet",
         1233382,
         1750844026000
        ],
        [
         "dbfs:/mnt/data/data/Customer/parquetFiles/part-00004-tid-7877307066025976411-3a62bd06-bc9c-467f-ae7b-d5db8ca40833-60-1-c000.snappy.parquet",
         "part-00004-tid-7877307066025976411-3a62bd06-bc9c-467f-ae7b-d5db8ca40833-60-1-c000.snappy.parquet",
         1232687,
         1750844024000
        ],
        [
         "dbfs:/mnt/data/data/Customer/parquetFiles/part-00005-tid-7877307066025976411-3a62bd06-bc9c-467f-ae7b-d5db8ca40833-61-1-c000.snappy.parquet",
         "part-00005-tid-7877307066025976411-3a62bd06-bc9c-467f-ae7b-d5db8ca40833-61-1-c000.snappy.parquet",
         1235305,
         1750844027000
        ],
        [
         "dbfs:/mnt/data/data/Customer/parquetFiles/part-00006-tid-7877307066025976411-3a62bd06-bc9c-467f-ae7b-d5db8ca40833-62-1-c000.snappy.parquet",
         "part-00006-tid-7877307066025976411-3a62bd06-bc9c-467f-ae7b-d5db8ca40833-62-1-c000.snappy.parquet",
         1233292,
         1750844024000
        ],
        [
         "dbfs:/mnt/data/data/Customer/parquetFiles/part-00007-tid-7877307066025976411-3a62bd06-bc9c-467f-ae7b-d5db8ca40833-63-1-c000.snappy.parquet",
         "part-00007-tid-7877307066025976411-3a62bd06-bc9c-467f-ae7b-d5db8ca40833-63-1-c000.snappy.parquet",
         1233605,
         1750844027000
        ],
        [
         "dbfs:/mnt/data/data/Customer/parquetFiles/part-00008-tid-7877307066025976411-3a62bd06-bc9c-467f-ae7b-d5db8ca40833-64-1-c000.snappy.parquet",
         "part-00008-tid-7877307066025976411-3a62bd06-bc9c-467f-ae7b-d5db8ca40833-64-1-c000.snappy.parquet",
         1231438,
         1750844027000
        ],
        [
         "dbfs:/mnt/data/data/Customer/parquetFiles/part-00009-tid-7877307066025976411-3a62bd06-bc9c-467f-ae7b-d5db8ca40833-65-1-c000.snappy.parquet",
         "part-00009-tid-7877307066025976411-3a62bd06-bc9c-467f-ae7b-d5db8ca40833-65-1-c000.snappy.parquet",
         1238351,
         1750844029000
        ]
       ],
       "datasetInfos": [],
       "dbfsResultPath": null,
       "isJsonSchema": true,
       "metadata": {},
       "overflow": false,
       "plotOptions": {
        "customPlotOptions": {},
        "displayType": "table",
        "pivotAggregation": null,
        "pivotColumns": null,
        "xColumns": null,
        "yColumns": null
       },
       "removedWidgets": [],
       "schema": [
        {
         "metadata": "{}",
         "name": "path",
         "type": "\"string\""
        },
        {
         "metadata": "{}",
         "name": "name",
         "type": "\"string\""
        },
        {
         "metadata": "{}",
         "name": "size",
         "type": "\"long\""
        },
        {
         "metadata": "{}",
         "name": "modificationTime",
         "type": "\"long\""
        }
       ],
       "type": "table"
      }
     },
     "output_type": "display_data"
    }
   ],
   "source": [
    "display(dbutils.fs.ls(\"/mnt/data/data/Customer/parquetFiles\"))"
   ]
  },
  {
   "cell_type": "code",
   "execution_count": 0,
   "metadata": {
    "application/vnd.databricks.v1+cell": {
     "cellMetadata": {},
     "inputWidgets": {},
     "nuid": "4bfd0225-2ce9-46dd-ab69-5e17dcebefa7",
     "showTitle": false,
     "tableResultSettingsMap": {},
     "title": ""
    }
   },
   "outputs": [],
   "source": []
  },
  {
   "cell_type": "code",
   "execution_count": 0,
   "metadata": {
    "application/vnd.databricks.v1+cell": {
     "cellMetadata": {
      "byteLimit": 2048000,
      "rowLimit": 10000
     },
     "inputWidgets": {},
     "nuid": "d1ef5a62-2905-4b0a-a87e-d66b57f59d91",
     "showTitle": false,
     "tableResultSettingsMap": {},
     "title": ""
    }
   },
   "outputs": [
    {
     "output_type": "execute_result",
     "data": {
      "text/plain": [
       "DataFrame[key: string, value: string]"
      ]
     },
     "execution_count": 5,
     "metadata": {},
     "output_type": "execute_result"
    }
   ],
   "source": [
    "db = \"tpchdb\"\n",
    " \n",
    "spark.sql(f\"CREATE DATABASE IF NOT EXISTS {db}\")\n",
    "spark.sql(f\"USE {db}\")\n",
    " \n",
    "spark.sql(\"SET spark.databricks.delta.formatCheck.enabled = false\")\n",
    "spark.sql(\"SET spark.databricks.delta.properties.defaults.autoOptimize.optimizeWrite = true\")"
   ]
  },
  {
   "cell_type": "code",
   "execution_count": 0,
   "metadata": {
    "application/vnd.databricks.v1+cell": {
     "cellMetadata": {
      "byteLimit": 2048000,
      "rowLimit": 10000
     },
     "inputWidgets": {},
     "nuid": "37c068af-5038-43f8-b03d-083a2c2cc358",
     "showTitle": false,
     "tableResultSettingsMap": {},
     "title": ""
    }
   },
   "outputs": [],
   "source": [
    "import random\n",
    "from datetime import datetime\n",
    "from pyspark.sql.functions import *\n",
    "from pyspark.sql.types import *\n",
    "from delta.tables import *\n",
    "  "
   ]
  },
  {
   "cell_type": "markdown",
   "metadata": {
    "application/vnd.databricks.v1+cell": {
     "cellMetadata": {},
     "inputWidgets": {},
     "nuid": "c0f1cc5a-038d-4163-86e5-18192a990b08",
     "showTitle": false,
     "tableResultSettingsMap": {},
     "title": ""
    }
   },
   "source": [
    "### Reading Customer parquet files from the mount point and writing to Delta tables."
   ]
  },
  {
   "cell_type": "code",
   "execution_count": 0,
   "metadata": {
    "application/vnd.databricks.v1+cell": {
     "cellMetadata": {
      "byteLimit": 2048000,
      "rowLimit": 10000
     },
     "inputWidgets": {},
     "nuid": "803e20e2-8fc2-4037-9e78-1bb95e969f5a",
     "showTitle": false,
     "tableResultSettingsMap": {},
     "title": ""
    }
   },
   "outputs": [],
   "source": [
    "#Reading parquet files and adding a new column to the dataframe and writing to delta table\n",
    "cust_path = \"/mnt/data/data/Customer/parquetFiles\"\n",
    " \n",
    "df_cust = (spark.read.format(\"parquet\").load(cust_path)\n",
    "      .withColumn(\"timestamp\", current_timestamp()))\n",
    " \n",
    "df_cust.write.format(\"delta\").mode(\"overwrite\").save(\"/mnt/data/data/Customer/delta\")"
   ]
  },
  {
   "cell_type": "code",
   "execution_count": 0,
   "metadata": {
    "application/vnd.databricks.v1+cell": {
     "cellMetadata": {
      "byteLimit": 2048000,
      "implicitDf": true,
      "rowLimit": 10000
     },
     "inputWidgets": {},
     "nuid": "f3db9b93-91fd-4de1-8530-9fd2ef82f232",
     "showTitle": false,
     "tableResultSettingsMap": {},
     "title": ""
    }
   },
   "outputs": [
    {
     "output_type": "display_data",
     "data": {
      "text/html": [
       "<style scoped>\n",
       "  .table-result-container {\n",
       "    max-height: 300px;\n",
       "    overflow: auto;\n",
       "  }\n",
       "  table, th, td {\n",
       "    border: 1px solid black;\n",
       "    border-collapse: collapse;\n",
       "  }\n",
       "  th, td {\n",
       "    padding: 5px;\n",
       "  }\n",
       "  th {\n",
       "    text-align: left;\n",
       "  }\n",
       "</style><div class='table-result-container'><table class='table-result'><thead style='background-color: white'><tr></tr></thead><tbody></tbody></table></div>"
      ]
     },
     "metadata": {
      "application/vnd.databricks.v1+output": {
       "addedWidgets": {},
       "aggData": [],
       "aggError": "",
       "aggOverflow": false,
       "aggSchema": [],
       "aggSeriesLimitReached": false,
       "aggType": "",
       "arguments": {},
       "columnCustomDisplayInfos": {},
       "data": [],
       "datasetInfos": [],
       "dbfsResultPath": null,
       "isJsonSchema": true,
       "metadata": {
        "dataframeName": null
       },
       "overflow": false,
       "plotOptions": {
        "customPlotOptions": {},
        "displayType": "table",
        "pivotAggregation": null,
        "pivotColumns": null,
        "xColumns": null,
        "yColumns": null
       },
       "removedWidgets": [],
       "schema": [],
       "type": "table"
      }
     },
     "output_type": "display_data"
    }
   ],
   "source": [
    "%sql\n",
    "-- Creating Delta table \n",
    "DROP TABLE IF EXISTS Customer;\n",
    "CREATE TABLE Customer\n",
    "USING delta\n",
    "location \"/mnt/data/data/Customer/delta\""
   ]
  },
  {
   "cell_type": "code",
   "execution_count": 0,
   "metadata": {
    "application/vnd.databricks.v1+cell": {
     "cellMetadata": {
      "byteLimit": 2048000,
      "implicitDf": true,
      "rowLimit": 10000
     },
     "inputWidgets": {},
     "nuid": "8d90902c-54c7-4305-93f1-d16c3f8b63f1",
     "showTitle": false,
     "tableResultSettingsMap": {},
     "title": ""
    }
   },
   "outputs": [
    {
     "output_type": "display_data",
     "data": {
      "text/html": [
       "<style scoped>\n",
       "  .table-result-container {\n",
       "    max-height: 300px;\n",
       "    overflow: auto;\n",
       "  }\n",
       "  table, th, td {\n",
       "    border: 1px solid black;\n",
       "    border-collapse: collapse;\n",
       "  }\n",
       "  th, td {\n",
       "    padding: 5px;\n",
       "  }\n",
       "  th {\n",
       "    text-align: left;\n",
       "  }\n",
       "</style><div class='table-result-container'><table class='table-result'><thead style='background-color: white'><tr><th>col_name</th><th>data_type</th><th>comment</th></tr></thead><tbody><tr><td>C_CUSTKEY</td><td>int</td><td>null</td></tr><tr><td>C_NAME</td><td>string</td><td>null</td></tr><tr><td>C_ADDRESS</td><td>string</td><td>null</td></tr><tr><td>C_NATIONKEY</td><td>int</td><td>null</td></tr><tr><td>C_PHONE</td><td>string</td><td>null</td></tr><tr><td>C_ACCTBAL</td><td>decimal(13,2)</td><td>null</td></tr><tr><td>C_MKTSEGMENT</td><td>string</td><td>null</td></tr><tr><td>C_COMMENT</td><td>string</td><td>null</td></tr><tr><td>timestamp</td><td>timestamp</td><td>null</td></tr><tr><td></td><td></td><td></td></tr><tr><td># Delta Statistics Columns</td><td></td><td></td></tr><tr><td>Column Names</td><td>timestamp, C_MKTSEGMENT, C_COMMENT, C_PHONE, C_CUSTKEY, C_NAME, C_ADDRESS, C_NATIONKEY, C_ACCTBAL</td><td></td></tr><tr><td>Column Selection Method</td><td>first-32</td><td></td></tr><tr><td></td><td></td><td></td></tr><tr><td># Detailed Table Information</td><td></td><td></td></tr><tr><td>Catalog</td><td>spark_catalog</td><td></td></tr><tr><td>Database</td><td>tpchdb</td><td></td></tr><tr><td>Table</td><td>Customer</td><td></td></tr><tr><td>Created Time</td><td>Wed Jun 25 10:04:49 UTC 2025</td><td></td></tr><tr><td>Last Access</td><td>UNKNOWN</td><td></td></tr><tr><td>Created By</td><td>Spark 3.5.0</td><td></td></tr><tr><td>Type</td><td>EXTERNAL</td><td></td></tr><tr><td>Location</td><td>dbfs:/mnt/data/data/Customer/delta</td><td></td></tr><tr><td>Provider</td><td>delta</td><td></td></tr><tr><td>Owner</td><td>root</td><td></td></tr><tr><td>Table Properties</td><td>[delta.autoOptimize.optimizeWrite=true,delta.enableDeletionVectors=true,delta.feature.deletionVectors=supported,delta.minReaderVersion=3,delta.minWriterVersion=7]</td><td></td></tr></tbody></table></div>"
      ]
     },
     "metadata": {
      "application/vnd.databricks.v1+output": {
       "addedWidgets": {},
       "aggData": [],
       "aggError": "",
       "aggOverflow": false,
       "aggSchema": [],
       "aggSeriesLimitReached": false,
       "aggType": "",
       "arguments": {},
       "columnCustomDisplayInfos": {},
       "data": [
        [
         "C_CUSTKEY",
         "int",
         null
        ],
        [
         "C_NAME",
         "string",
         null
        ],
        [
         "C_ADDRESS",
         "string",
         null
        ],
        [
         "C_NATIONKEY",
         "int",
         null
        ],
        [
         "C_PHONE",
         "string",
         null
        ],
        [
         "C_ACCTBAL",
         "decimal(13,2)",
         null
        ],
        [
         "C_MKTSEGMENT",
         "string",
         null
        ],
        [
         "C_COMMENT",
         "string",
         null
        ],
        [
         "timestamp",
         "timestamp",
         null
        ],
        [
         "",
         "",
         ""
        ],
        [
         "# Delta Statistics Columns",
         "",
         ""
        ],
        [
         "Column Names",
         "timestamp, C_MKTSEGMENT, C_COMMENT, C_PHONE, C_CUSTKEY, C_NAME, C_ADDRESS, C_NATIONKEY, C_ACCTBAL",
         ""
        ],
        [
         "Column Selection Method",
         "first-32",
         ""
        ],
        [
         "",
         "",
         ""
        ],
        [
         "# Detailed Table Information",
         "",
         ""
        ],
        [
         "Catalog",
         "spark_catalog",
         ""
        ],
        [
         "Database",
         "tpchdb",
         ""
        ],
        [
         "Table",
         "Customer",
         ""
        ],
        [
         "Created Time",
         "Wed Jun 25 10:04:49 UTC 2025",
         ""
        ],
        [
         "Last Access",
         "UNKNOWN",
         ""
        ],
        [
         "Created By",
         "Spark 3.5.0",
         ""
        ],
        [
         "Type",
         "EXTERNAL",
         ""
        ],
        [
         "Location",
         "dbfs:/mnt/data/data/Customer/delta",
         ""
        ],
        [
         "Provider",
         "delta",
         ""
        ],
        [
         "Owner",
         "root",
         ""
        ],
        [
         "Table Properties",
         "[delta.autoOptimize.optimizeWrite=true,delta.enableDeletionVectors=true,delta.feature.deletionVectors=supported,delta.minReaderVersion=3,delta.minWriterVersion=7]",
         ""
        ]
       ],
       "datasetInfos": [],
       "dbfsResultPath": null,
       "isJsonSchema": true,
       "metadata": {
        "createTempViewForImplicitDf": true,
        "dataframeName": "_sqldf",
        "executionCount": 8
       },
       "overflow": false,
       "plotOptions": {
        "customPlotOptions": {},
        "displayType": "table",
        "pivotAggregation": null,
        "pivotColumns": null,
        "xColumns": null,
        "yColumns": null
       },
       "removedWidgets": [],
       "schema": [
        {
         "metadata": "{\"comment\":\"name of the column\"}",
         "name": "col_name",
         "type": "\"string\""
        },
        {
         "metadata": "{\"comment\":\"data type of the column\"}",
         "name": "data_type",
         "type": "\"string\""
        },
        {
         "metadata": "{\"comment\":\"comment of the column\"}",
         "name": "comment",
         "type": "\"string\""
        }
       ],
       "type": "table"
      }
     },
     "output_type": "display_data"
    }
   ],
   "source": [
    "%sql\n",
    "describe formatted Customer"
   ]
  },
  {
   "cell_type": "code",
   "execution_count": 0,
   "metadata": {
    "application/vnd.databricks.v1+cell": {
     "cellMetadata": {
      "byteLimit": 2048000,
      "implicitDf": true,
      "rowLimit": 10000
     },
     "inputWidgets": {},
     "nuid": "c39407a0-e0fd-41dd-b673-8eaf5dfdeda1",
     "showTitle": false,
     "tableResultSettingsMap": {},
     "title": ""
    }
   },
   "outputs": [
    {
     "output_type": "display_data",
     "data": {
      "text/html": [
       "<style scoped>\n",
       "  .table-result-container {\n",
       "    max-height: 300px;\n",
       "    overflow: auto;\n",
       "  }\n",
       "  table, th, td {\n",
       "    border: 1px solid black;\n",
       "    border-collapse: collapse;\n",
       "  }\n",
       "  th, td {\n",
       "    padding: 5px;\n",
       "  }\n",
       "  th {\n",
       "    text-align: left;\n",
       "  }\n",
       "</style><div class='table-result-container'><table class='table-result'><thead style='background-color: white'><tr><th>C_CUSTKEY</th><th>C_NAME</th><th>C_ADDRESS</th><th>C_NATIONKEY</th><th>C_PHONE</th><th>C_ACCTBAL</th><th>C_MKTSEGMENT</th><th>C_COMMENT</th><th>timestamp</th></tr></thead><tbody><tr><td>34136</td><td>Customer#000034136</td><td>UjBY ZyJnHesu0bxL0VEvU1t1A</td><td>0</td><td>10-863-612-2949</td><td>3397.87</td><td>BUILDING</td><td>es. furiously fluffy instructions </td><td>2025-06-25T10:04:18.552Z</td></tr><tr><td>31731</td><td>Customer#000031731</td><td>Zq9KcCB7jMCIGMj32les8l9QR4laAZyaxWga6</td><td>0</td><td>10-250-546-6987</td><td>8466.07</td><td>FURNITURE</td><td>counts lose quickly at the blithely regular dependencies</td><td>2025-06-25T10:04:18.552Z</td></tr><tr><td>33511</td><td>Customer#000033511</td><td>bz2D0HrwQiaz</td><td>0</td><td>10-618-323-6263</td><td>5331.22</td><td>AUTOMOBILE</td><td>ons are slyly instructions. carefully final theodolites </td><td>2025-06-25T10:04:18.552Z</td></tr><tr><td>45695</td><td>Customer#000045695</td><td>Oc2Yin5Gcqudb6RGEWEfJPTKcUNqOOrVC147</td><td>0</td><td>10-414-601-9544</td><td>5340.52</td><td>AUTOMOBILE</td><td>riously furious pinto beans cajole carefully express ideas. even re</td><td>2025-06-25T10:04:18.552Z</td></tr><tr><td>36768</td><td>Customer#000036768</td><td>,8Q8TZ48Wme</td><td>0</td><td>10-950-600-3087</td><td>9229.21</td><td>MACHINERY</td><td>ounts engage quickly sly accounts. carefully ironic accounts na</td><td>2025-06-25T10:04:18.552Z</td></tr><tr><td>37449</td><td>Customer#000037449</td><td>kSezsusukDqm37pMNI0bRMFUDyH6h0GekQbTfl</td><td>0</td><td>10-231-238-1522</td><td>1173.53</td><td>AUTOMOBILE</td><td>ding dependencies shall promise ironic deposits. carefully special braids haggle blithely regular pac</td><td>2025-06-25T10:04:18.552Z</td></tr><tr><td>46970</td><td>Customer#000046970</td><td>uZbY1HQYjGobtk8ppkV</td><td>0</td><td>10-361-617-6664</td><td>8689.85</td><td>AUTOMOBILE</td><td>xes boost furiously regular platelets. sly, unusual platelets along the blithely special requests are</td><td>2025-06-25T10:04:18.552Z</td></tr><tr><td>29109</td><td>Customer#000029109</td><td>FG6PVFkL69,LZWcl4JvrVrMVBUDmckSRadTylcua</td><td>0</td><td>10-770-489-7404</td><td>1939.54</td><td>AUTOMOBILE</td><td> above the furiously regular theodolite</td><td>2025-06-25T10:04:18.552Z</td></tr><tr><td>43753</td><td>Customer#000043753</td><td>xWtHn81QCu6kSjIkdYyW4RNSoS0g9 </td><td>0</td><td>10-180-882-4254</td><td>4975.15</td><td>AUTOMOBILE</td><td>sts-- idly final forges according to the foxes use fluffily alongside of the carefully ironic packag</td><td>2025-06-25T10:04:18.552Z</td></tr><tr><td>42429</td><td>Customer#000042429</td><td>g6AgY9ecZcwMhWvq5rT7qT gNFno5v4jG2ZrWq</td><td>0</td><td>10-616-749-7989</td><td>5345.32</td><td>BUILDING</td><td>ing to the slyly pending requests. sentiments are furiously across the qui</td><td>2025-06-25T10:04:18.552Z</td></tr></tbody></table></div>"
      ]
     },
     "metadata": {
      "application/vnd.databricks.v1+output": {
       "addedWidgets": {},
       "aggData": [],
       "aggError": "",
       "aggOverflow": false,
       "aggSchema": [],
       "aggSeriesLimitReached": false,
       "aggType": "",
       "arguments": {},
       "columnCustomDisplayInfos": {},
       "data": [
        [
         34136,
         "Customer#000034136",
         "UjBY ZyJnHesu0bxL0VEvU1t1A",
         0,
         "10-863-612-2949",
         "3397.87",
         "BUILDING",
         "es. furiously fluffy instructions ",
         "2025-06-25T10:04:18.552Z"
        ],
        [
         31731,
         "Customer#000031731",
         "Zq9KcCB7jMCIGMj32les8l9QR4laAZyaxWga6",
         0,
         "10-250-546-6987",
         "8466.07",
         "FURNITURE",
         "counts lose quickly at the blithely regular dependencies",
         "2025-06-25T10:04:18.552Z"
        ],
        [
         33511,
         "Customer#000033511",
         "bz2D0HrwQiaz",
         0,
         "10-618-323-6263",
         "5331.22",
         "AUTOMOBILE",
         "ons are slyly instructions. carefully final theodolites ",
         "2025-06-25T10:04:18.552Z"
        ],
        [
         45695,
         "Customer#000045695",
         "Oc2Yin5Gcqudb6RGEWEfJPTKcUNqOOrVC147",
         0,
         "10-414-601-9544",
         "5340.52",
         "AUTOMOBILE",
         "riously furious pinto beans cajole carefully express ideas. even re",
         "2025-06-25T10:04:18.552Z"
        ],
        [
         36768,
         "Customer#000036768",
         ",8Q8TZ48Wme",
         0,
         "10-950-600-3087",
         "9229.21",
         "MACHINERY",
         "ounts engage quickly sly accounts. carefully ironic accounts na",
         "2025-06-25T10:04:18.552Z"
        ],
        [
         37449,
         "Customer#000037449",
         "kSezsusukDqm37pMNI0bRMFUDyH6h0GekQbTfl",
         0,
         "10-231-238-1522",
         "1173.53",
         "AUTOMOBILE",
         "ding dependencies shall promise ironic deposits. carefully special braids haggle blithely regular pac",
         "2025-06-25T10:04:18.552Z"
        ],
        [
         46970,
         "Customer#000046970",
         "uZbY1HQYjGobtk8ppkV",
         0,
         "10-361-617-6664",
         "8689.85",
         "AUTOMOBILE",
         "xes boost furiously regular platelets. sly, unusual platelets along the blithely special requests are",
         "2025-06-25T10:04:18.552Z"
        ],
        [
         29109,
         "Customer#000029109",
         "FG6PVFkL69,LZWcl4JvrVrMVBUDmckSRadTylcua",
         0,
         "10-770-489-7404",
         "1939.54",
         "AUTOMOBILE",
         " above the furiously regular theodolite",
         "2025-06-25T10:04:18.552Z"
        ],
        [
         43753,
         "Customer#000043753",
         "xWtHn81QCu6kSjIkdYyW4RNSoS0g9 ",
         0,
         "10-180-882-4254",
         "4975.15",
         "AUTOMOBILE",
         "sts-- idly final forges according to the foxes use fluffily alongside of the carefully ironic packag",
         "2025-06-25T10:04:18.552Z"
        ],
        [
         42429,
         "Customer#000042429",
         "g6AgY9ecZcwMhWvq5rT7qT gNFno5v4jG2ZrWq",
         0,
         "10-616-749-7989",
         "5345.32",
         "BUILDING",
         "ing to the slyly pending requests. sentiments are furiously across the qui",
         "2025-06-25T10:04:18.552Z"
        ]
       ],
       "datasetInfos": [],
       "dbfsResultPath": null,
       "isJsonSchema": true,
       "metadata": {
        "createTempViewForImplicitDf": true,
        "dataframeName": "_sqldf",
        "executionCount": 9
       },
       "overflow": false,
       "plotOptions": {
        "customPlotOptions": {},
        "displayType": "table",
        "pivotAggregation": null,
        "pivotColumns": null,
        "xColumns": null,
        "yColumns": null
       },
       "removedWidgets": [],
       "schema": [
        {
         "metadata": "{}",
         "name": "C_CUSTKEY",
         "type": "\"integer\""
        },
        {
         "metadata": "{\"HIVE_TYPE_STRING\":\"varchar(25)\"}",
         "name": "C_NAME",
         "type": "\"string\""
        },
        {
         "metadata": "{\"HIVE_TYPE_STRING\":\"varchar(40)\"}",
         "name": "C_ADDRESS",
         "type": "\"string\""
        },
        {
         "metadata": "{}",
         "name": "C_NATIONKEY",
         "type": "\"integer\""
        },
        {
         "metadata": "{\"HIVE_TYPE_STRING\":\"char(15)\"}",
         "name": "C_PHONE",
         "type": "\"string\""
        },
        {
         "metadata": "{}",
         "name": "C_ACCTBAL",
         "type": "\"decimal(13,2)\""
        },
        {
         "metadata": "{\"HIVE_TYPE_STRING\":\"char(10)\"}",
         "name": "C_MKTSEGMENT",
         "type": "\"string\""
        },
        {
         "metadata": "{\"HIVE_TYPE_STRING\":\"varchar(117)\"}",
         "name": "C_COMMENT",
         "type": "\"string\""
        },
        {
         "metadata": "{}",
         "name": "timestamp",
         "type": "\"timestamp\""
        }
       ],
       "type": "table"
      }
     },
     "output_type": "display_data"
    }
   ],
   "source": [
    "%sql\n",
    "select * from Customer limit 10;"
   ]
  },
  {
   "cell_type": "code",
   "execution_count": 0,
   "metadata": {
    "application/vnd.databricks.v1+cell": {
     "cellMetadata": {
      "byteLimit": 2048000,
      "rowLimit": 10000
     },
     "inputWidgets": {},
     "nuid": "30dcda6f-4031-41f6-8254-9aeb590fc4d9",
     "showTitle": false,
     "tableResultSettingsMap": {},
     "title": ""
    }
   },
   "outputs": [
    {
     "output_type": "display_data",
     "data": {
      "text/html": [
       "<style scoped>\n",
       "  .table-result-container {\n",
       "    max-height: 300px;\n",
       "    overflow: auto;\n",
       "  }\n",
       "  table, th, td {\n",
       "    border: 1px solid black;\n",
       "    border-collapse: collapse;\n",
       "  }\n",
       "  th, td {\n",
       "    padding: 5px;\n",
       "  }\n",
       "  th {\n",
       "    text-align: left;\n",
       "  }\n",
       "</style><div class='table-result-container'><table class='table-result'><thead style='background-color: white'><tr><th>path</th><th>name</th><th>size</th><th>modificationTime</th></tr></thead><tbody><tr><td>dbfs:/mnt/data/data/Orders/parquetFiles/part-00000-tid-413255148558796313-911f8f6b-4fad-417e-bae5-b9f0e06776f2-82-1-c000.snappy.parquet</td><td>part-00000-tid-413255148558796313-911f8f6b-4fad-417e-bae5-b9f0e06776f2-82-1-c000.snappy.parquet</td><td>867030</td><td>1750844109000</td></tr><tr><td>dbfs:/mnt/data/data/Orders/parquetFiles/part-00001-tid-413255148558796313-911f8f6b-4fad-417e-bae5-b9f0e06776f2-83-1-c000.snappy.parquet</td><td>part-00001-tid-413255148558796313-911f8f6b-4fad-417e-bae5-b9f0e06776f2-83-1-c000.snappy.parquet</td><td>866929</td><td>1750844113000</td></tr><tr><td>dbfs:/mnt/data/data/Orders/parquetFiles/part-00002-tid-413255148558796313-911f8f6b-4fad-417e-bae5-b9f0e06776f2-84-1-c000.snappy.parquet</td><td>part-00002-tid-413255148558796313-911f8f6b-4fad-417e-bae5-b9f0e06776f2-84-1-c000.snappy.parquet</td><td>866803</td><td>1750844113000</td></tr><tr><td>dbfs:/mnt/data/data/Orders/parquetFiles/part-00003-tid-413255148558796313-911f8f6b-4fad-417e-bae5-b9f0e06776f2-85-1-c000.snappy.parquet</td><td>part-00003-tid-413255148558796313-911f8f6b-4fad-417e-bae5-b9f0e06776f2-85-1-c000.snappy.parquet</td><td>866795</td><td>1750844117000</td></tr><tr><td>dbfs:/mnt/data/data/Orders/parquetFiles/part-00004-tid-413255148558796313-911f8f6b-4fad-417e-bae5-b9f0e06776f2-86-1-c000.snappy.parquet</td><td>part-00004-tid-413255148558796313-911f8f6b-4fad-417e-bae5-b9f0e06776f2-86-1-c000.snappy.parquet</td><td>866832</td><td>1750844115000</td></tr><tr><td>dbfs:/mnt/data/data/Orders/parquetFiles/part-00005-tid-413255148558796313-911f8f6b-4fad-417e-bae5-b9f0e06776f2-87-1-c000.snappy.parquet</td><td>part-00005-tid-413255148558796313-911f8f6b-4fad-417e-bae5-b9f0e06776f2-87-1-c000.snappy.parquet</td><td>867069</td><td>1750844118000</td></tr><tr><td>dbfs:/mnt/data/data/Orders/parquetFiles/part-00006-tid-413255148558796313-911f8f6b-4fad-417e-bae5-b9f0e06776f2-88-1-c000.snappy.parquet</td><td>part-00006-tid-413255148558796313-911f8f6b-4fad-417e-bae5-b9f0e06776f2-88-1-c000.snappy.parquet</td><td>866918</td><td>1750844119000</td></tr><tr><td>dbfs:/mnt/data/data/Orders/parquetFiles/part-00007-tid-413255148558796313-911f8f6b-4fad-417e-bae5-b9f0e06776f2-89-1-c000.snappy.parquet</td><td>part-00007-tid-413255148558796313-911f8f6b-4fad-417e-bae5-b9f0e06776f2-89-1-c000.snappy.parquet</td><td>866973</td><td>1750844122000</td></tr><tr><td>dbfs:/mnt/data/data/Orders/parquetFiles/part-00008-tid-413255148558796313-911f8f6b-4fad-417e-bae5-b9f0e06776f2-90-1-c000.snappy.parquet</td><td>part-00008-tid-413255148558796313-911f8f6b-4fad-417e-bae5-b9f0e06776f2-90-1-c000.snappy.parquet</td><td>867001</td><td>1750844122000</td></tr><tr><td>dbfs:/mnt/data/data/Orders/parquetFiles/part-00009-tid-413255148558796313-911f8f6b-4fad-417e-bae5-b9f0e06776f2-91-1-c000.snappy.parquet</td><td>part-00009-tid-413255148558796313-911f8f6b-4fad-417e-bae5-b9f0e06776f2-91-1-c000.snappy.parquet</td><td>867085</td><td>1750844130000</td></tr><tr><td>dbfs:/mnt/data/data/Orders/parquetFiles/part-00010-tid-413255148558796313-911f8f6b-4fad-417e-bae5-b9f0e06776f2-92-1-c000.snappy.parquet</td><td>part-00010-tid-413255148558796313-911f8f6b-4fad-417e-bae5-b9f0e06776f2-92-1-c000.snappy.parquet</td><td>866861</td><td>1750844126000</td></tr><tr><td>dbfs:/mnt/data/data/Orders/parquetFiles/part-00011-tid-413255148558796313-911f8f6b-4fad-417e-bae5-b9f0e06776f2-93-1-c000.snappy.parquet</td><td>part-00011-tid-413255148558796313-911f8f6b-4fad-417e-bae5-b9f0e06776f2-93-1-c000.snappy.parquet</td><td>866933</td><td>1750844126000</td></tr><tr><td>dbfs:/mnt/data/data/Orders/parquetFiles/part-00012-tid-413255148558796313-911f8f6b-4fad-417e-bae5-b9f0e06776f2-94-1-c000.snappy.parquet</td><td>part-00012-tid-413255148558796313-911f8f6b-4fad-417e-bae5-b9f0e06776f2-94-1-c000.snappy.parquet</td><td>866783</td><td>1750844125000</td></tr><tr><td>dbfs:/mnt/data/data/Orders/parquetFiles/part-00013-tid-413255148558796313-911f8f6b-4fad-417e-bae5-b9f0e06776f2-95-1-c000.snappy.parquet</td><td>part-00013-tid-413255148558796313-911f8f6b-4fad-417e-bae5-b9f0e06776f2-95-1-c000.snappy.parquet</td><td>866874</td><td>1750844128000</td></tr><tr><td>dbfs:/mnt/data/data/Orders/parquetFiles/part-00014-tid-413255148558796313-911f8f6b-4fad-417e-bae5-b9f0e06776f2-96-1-c000.snappy.parquet</td><td>part-00014-tid-413255148558796313-911f8f6b-4fad-417e-bae5-b9f0e06776f2-96-1-c000.snappy.parquet</td><td>866730</td><td>1750844129000</td></tr><tr><td>dbfs:/mnt/data/data/Orders/parquetFiles/part-00015-tid-413255148558796313-911f8f6b-4fad-417e-bae5-b9f0e06776f2-97-1-c000.snappy.parquet</td><td>part-00015-tid-413255148558796313-911f8f6b-4fad-417e-bae5-b9f0e06776f2-97-1-c000.snappy.parquet</td><td>866781</td><td>1750844131000</td></tr><tr><td>dbfs:/mnt/data/data/Orders/parquetFiles/part-00016-tid-413255148558796313-911f8f6b-4fad-417e-bae5-b9f0e06776f2-98-1-c000.snappy.parquet</td><td>part-00016-tid-413255148558796313-911f8f6b-4fad-417e-bae5-b9f0e06776f2-98-1-c000.snappy.parquet</td><td>866869</td><td>1750844131000</td></tr><tr><td>dbfs:/mnt/data/data/Orders/parquetFiles/part-00017-tid-413255148558796313-911f8f6b-4fad-417e-bae5-b9f0e06776f2-99-1-c000.snappy.parquet</td><td>part-00017-tid-413255148558796313-911f8f6b-4fad-417e-bae5-b9f0e06776f2-99-1-c000.snappy.parquet</td><td>866810</td><td>1750844133000</td></tr><tr><td>dbfs:/mnt/data/data/Orders/parquetFiles/part-00018-tid-413255148558796313-911f8f6b-4fad-417e-bae5-b9f0e06776f2-100-1-c000.snappy.parquet</td><td>part-00018-tid-413255148558796313-911f8f6b-4fad-417e-bae5-b9f0e06776f2-100-1-c000.snappy.parquet</td><td>866881</td><td>1750844136000</td></tr><tr><td>dbfs:/mnt/data/data/Orders/parquetFiles/part-00019-tid-413255148558796313-911f8f6b-4fad-417e-bae5-b9f0e06776f2-101-1-c000.snappy.parquet</td><td>part-00019-tid-413255148558796313-911f8f6b-4fad-417e-bae5-b9f0e06776f2-101-1-c000.snappy.parquet</td><td>866971</td><td>1750844136000</td></tr><tr><td>dbfs:/mnt/data/data/Orders/parquetFiles/part-00020-tid-413255148558796313-911f8f6b-4fad-417e-bae5-b9f0e06776f2-102-1-c000.snappy.parquet</td><td>part-00020-tid-413255148558796313-911f8f6b-4fad-417e-bae5-b9f0e06776f2-102-1-c000.snappy.parquet</td><td>867002</td><td>1750844133000</td></tr><tr><td>dbfs:/mnt/data/data/Orders/parquetFiles/part-00021-tid-413255148558796313-911f8f6b-4fad-417e-bae5-b9f0e06776f2-103-1-c000.snappy.parquet</td><td>part-00021-tid-413255148558796313-911f8f6b-4fad-417e-bae5-b9f0e06776f2-103-1-c000.snappy.parquet</td><td>866944</td><td>1750844137000</td></tr><tr><td>dbfs:/mnt/data/data/Orders/parquetFiles/part-00022-tid-413255148558796313-911f8f6b-4fad-417e-bae5-b9f0e06776f2-104-1-c000.snappy.parquet</td><td>part-00022-tid-413255148558796313-911f8f6b-4fad-417e-bae5-b9f0e06776f2-104-1-c000.snappy.parquet</td><td>866880</td><td>1750844139000</td></tr><tr><td>dbfs:/mnt/data/data/Orders/parquetFiles/part-00023-tid-413255148558796313-911f8f6b-4fad-417e-bae5-b9f0e06776f2-105-1-c000.snappy.parquet</td><td>part-00023-tid-413255148558796313-911f8f6b-4fad-417e-bae5-b9f0e06776f2-105-1-c000.snappy.parquet</td><td>866787</td><td>1750844136000</td></tr><tr><td>dbfs:/mnt/data/data/Orders/parquetFiles/part-00024-tid-413255148558796313-911f8f6b-4fad-417e-bae5-b9f0e06776f2-106-1-c000.snappy.parquet</td><td>part-00024-tid-413255148558796313-911f8f6b-4fad-417e-bae5-b9f0e06776f2-106-1-c000.snappy.parquet</td><td>866825</td><td>1750844139000</td></tr><tr><td>dbfs:/mnt/data/data/Orders/parquetFiles/part-00025-tid-413255148558796313-911f8f6b-4fad-417e-bae5-b9f0e06776f2-107-1-c000.snappy.parquet</td><td>part-00025-tid-413255148558796313-911f8f6b-4fad-417e-bae5-b9f0e06776f2-107-1-c000.snappy.parquet</td><td>866783</td><td>1750844138000</td></tr><tr><td>dbfs:/mnt/data/data/Orders/parquetFiles/part-00026-tid-413255148558796313-911f8f6b-4fad-417e-bae5-b9f0e06776f2-108-1-c000.snappy.parquet</td><td>part-00026-tid-413255148558796313-911f8f6b-4fad-417e-bae5-b9f0e06776f2-108-1-c000.snappy.parquet</td><td>867066</td><td>1750844142000</td></tr><tr><td>dbfs:/mnt/data/data/Orders/parquetFiles/part-00027-tid-413255148558796313-911f8f6b-4fad-417e-bae5-b9f0e06776f2-109-1-c000.snappy.parquet</td><td>part-00027-tid-413255148558796313-911f8f6b-4fad-417e-bae5-b9f0e06776f2-109-1-c000.snappy.parquet</td><td>866747</td><td>1750844148000</td></tr><tr><td>dbfs:/mnt/data/data/Orders/parquetFiles/part-00028-tid-413255148558796313-911f8f6b-4fad-417e-bae5-b9f0e06776f2-110-1-c000.snappy.parquet</td><td>part-00028-tid-413255148558796313-911f8f6b-4fad-417e-bae5-b9f0e06776f2-110-1-c000.snappy.parquet</td><td>866819</td><td>1750844141000</td></tr><tr><td>dbfs:/mnt/data/data/Orders/parquetFiles/part-00029-tid-413255148558796313-911f8f6b-4fad-417e-bae5-b9f0e06776f2-111-1-c000.snappy.parquet</td><td>part-00029-tid-413255148558796313-911f8f6b-4fad-417e-bae5-b9f0e06776f2-111-1-c000.snappy.parquet</td><td>866873</td><td>1750844142000</td></tr></tbody></table></div>"
      ]
     },
     "metadata": {
      "application/vnd.databricks.v1+output": {
       "addedWidgets": {},
       "aggData": [],
       "aggError": "",
       "aggOverflow": false,
       "aggSchema": [],
       "aggSeriesLimitReached": false,
       "aggType": "",
       "arguments": {},
       "columnCustomDisplayInfos": {},
       "data": [
        [
         "dbfs:/mnt/data/data/Orders/parquetFiles/part-00000-tid-413255148558796313-911f8f6b-4fad-417e-bae5-b9f0e06776f2-82-1-c000.snappy.parquet",
         "part-00000-tid-413255148558796313-911f8f6b-4fad-417e-bae5-b9f0e06776f2-82-1-c000.snappy.parquet",
         867030,
         1750844109000
        ],
        [
         "dbfs:/mnt/data/data/Orders/parquetFiles/part-00001-tid-413255148558796313-911f8f6b-4fad-417e-bae5-b9f0e06776f2-83-1-c000.snappy.parquet",
         "part-00001-tid-413255148558796313-911f8f6b-4fad-417e-bae5-b9f0e06776f2-83-1-c000.snappy.parquet",
         866929,
         1750844113000
        ],
        [
         "dbfs:/mnt/data/data/Orders/parquetFiles/part-00002-tid-413255148558796313-911f8f6b-4fad-417e-bae5-b9f0e06776f2-84-1-c000.snappy.parquet",
         "part-00002-tid-413255148558796313-911f8f6b-4fad-417e-bae5-b9f0e06776f2-84-1-c000.snappy.parquet",
         866803,
         1750844113000
        ],
        [
         "dbfs:/mnt/data/data/Orders/parquetFiles/part-00003-tid-413255148558796313-911f8f6b-4fad-417e-bae5-b9f0e06776f2-85-1-c000.snappy.parquet",
         "part-00003-tid-413255148558796313-911f8f6b-4fad-417e-bae5-b9f0e06776f2-85-1-c000.snappy.parquet",
         866795,
         1750844117000
        ],
        [
         "dbfs:/mnt/data/data/Orders/parquetFiles/part-00004-tid-413255148558796313-911f8f6b-4fad-417e-bae5-b9f0e06776f2-86-1-c000.snappy.parquet",
         "part-00004-tid-413255148558796313-911f8f6b-4fad-417e-bae5-b9f0e06776f2-86-1-c000.snappy.parquet",
         866832,
         1750844115000
        ],
        [
         "dbfs:/mnt/data/data/Orders/parquetFiles/part-00005-tid-413255148558796313-911f8f6b-4fad-417e-bae5-b9f0e06776f2-87-1-c000.snappy.parquet",
         "part-00005-tid-413255148558796313-911f8f6b-4fad-417e-bae5-b9f0e06776f2-87-1-c000.snappy.parquet",
         867069,
         1750844118000
        ],
        [
         "dbfs:/mnt/data/data/Orders/parquetFiles/part-00006-tid-413255148558796313-911f8f6b-4fad-417e-bae5-b9f0e06776f2-88-1-c000.snappy.parquet",
         "part-00006-tid-413255148558796313-911f8f6b-4fad-417e-bae5-b9f0e06776f2-88-1-c000.snappy.parquet",
         866918,
         1750844119000
        ],
        [
         "dbfs:/mnt/data/data/Orders/parquetFiles/part-00007-tid-413255148558796313-911f8f6b-4fad-417e-bae5-b9f0e06776f2-89-1-c000.snappy.parquet",
         "part-00007-tid-413255148558796313-911f8f6b-4fad-417e-bae5-b9f0e06776f2-89-1-c000.snappy.parquet",
         866973,
         1750844122000
        ],
        [
         "dbfs:/mnt/data/data/Orders/parquetFiles/part-00008-tid-413255148558796313-911f8f6b-4fad-417e-bae5-b9f0e06776f2-90-1-c000.snappy.parquet",
         "part-00008-tid-413255148558796313-911f8f6b-4fad-417e-bae5-b9f0e06776f2-90-1-c000.snappy.parquet",
         867001,
         1750844122000
        ],
        [
         "dbfs:/mnt/data/data/Orders/parquetFiles/part-00009-tid-413255148558796313-911f8f6b-4fad-417e-bae5-b9f0e06776f2-91-1-c000.snappy.parquet",
         "part-00009-tid-413255148558796313-911f8f6b-4fad-417e-bae5-b9f0e06776f2-91-1-c000.snappy.parquet",
         867085,
         1750844130000
        ],
        [
         "dbfs:/mnt/data/data/Orders/parquetFiles/part-00010-tid-413255148558796313-911f8f6b-4fad-417e-bae5-b9f0e06776f2-92-1-c000.snappy.parquet",
         "part-00010-tid-413255148558796313-911f8f6b-4fad-417e-bae5-b9f0e06776f2-92-1-c000.snappy.parquet",
         866861,
         1750844126000
        ],
        [
         "dbfs:/mnt/data/data/Orders/parquetFiles/part-00011-tid-413255148558796313-911f8f6b-4fad-417e-bae5-b9f0e06776f2-93-1-c000.snappy.parquet",
         "part-00011-tid-413255148558796313-911f8f6b-4fad-417e-bae5-b9f0e06776f2-93-1-c000.snappy.parquet",
         866933,
         1750844126000
        ],
        [
         "dbfs:/mnt/data/data/Orders/parquetFiles/part-00012-tid-413255148558796313-911f8f6b-4fad-417e-bae5-b9f0e06776f2-94-1-c000.snappy.parquet",
         "part-00012-tid-413255148558796313-911f8f6b-4fad-417e-bae5-b9f0e06776f2-94-1-c000.snappy.parquet",
         866783,
         1750844125000
        ],
        [
         "dbfs:/mnt/data/data/Orders/parquetFiles/part-00013-tid-413255148558796313-911f8f6b-4fad-417e-bae5-b9f0e06776f2-95-1-c000.snappy.parquet",
         "part-00013-tid-413255148558796313-911f8f6b-4fad-417e-bae5-b9f0e06776f2-95-1-c000.snappy.parquet",
         866874,
         1750844128000
        ],
        [
         "dbfs:/mnt/data/data/Orders/parquetFiles/part-00014-tid-413255148558796313-911f8f6b-4fad-417e-bae5-b9f0e06776f2-96-1-c000.snappy.parquet",
         "part-00014-tid-413255148558796313-911f8f6b-4fad-417e-bae5-b9f0e06776f2-96-1-c000.snappy.parquet",
         866730,
         1750844129000
        ],
        [
         "dbfs:/mnt/data/data/Orders/parquetFiles/part-00015-tid-413255148558796313-911f8f6b-4fad-417e-bae5-b9f0e06776f2-97-1-c000.snappy.parquet",
         "part-00015-tid-413255148558796313-911f8f6b-4fad-417e-bae5-b9f0e06776f2-97-1-c000.snappy.parquet",
         866781,
         1750844131000
        ],
        [
         "dbfs:/mnt/data/data/Orders/parquetFiles/part-00016-tid-413255148558796313-911f8f6b-4fad-417e-bae5-b9f0e06776f2-98-1-c000.snappy.parquet",
         "part-00016-tid-413255148558796313-911f8f6b-4fad-417e-bae5-b9f0e06776f2-98-1-c000.snappy.parquet",
         866869,
         1750844131000
        ],
        [
         "dbfs:/mnt/data/data/Orders/parquetFiles/part-00017-tid-413255148558796313-911f8f6b-4fad-417e-bae5-b9f0e06776f2-99-1-c000.snappy.parquet",
         "part-00017-tid-413255148558796313-911f8f6b-4fad-417e-bae5-b9f0e06776f2-99-1-c000.snappy.parquet",
         866810,
         1750844133000
        ],
        [
         "dbfs:/mnt/data/data/Orders/parquetFiles/part-00018-tid-413255148558796313-911f8f6b-4fad-417e-bae5-b9f0e06776f2-100-1-c000.snappy.parquet",
         "part-00018-tid-413255148558796313-911f8f6b-4fad-417e-bae5-b9f0e06776f2-100-1-c000.snappy.parquet",
         866881,
         1750844136000
        ],
        [
         "dbfs:/mnt/data/data/Orders/parquetFiles/part-00019-tid-413255148558796313-911f8f6b-4fad-417e-bae5-b9f0e06776f2-101-1-c000.snappy.parquet",
         "part-00019-tid-413255148558796313-911f8f6b-4fad-417e-bae5-b9f0e06776f2-101-1-c000.snappy.parquet",
         866971,
         1750844136000
        ],
        [
         "dbfs:/mnt/data/data/Orders/parquetFiles/part-00020-tid-413255148558796313-911f8f6b-4fad-417e-bae5-b9f0e06776f2-102-1-c000.snappy.parquet",
         "part-00020-tid-413255148558796313-911f8f6b-4fad-417e-bae5-b9f0e06776f2-102-1-c000.snappy.parquet",
         867002,
         1750844133000
        ],
        [
         "dbfs:/mnt/data/data/Orders/parquetFiles/part-00021-tid-413255148558796313-911f8f6b-4fad-417e-bae5-b9f0e06776f2-103-1-c000.snappy.parquet",
         "part-00021-tid-413255148558796313-911f8f6b-4fad-417e-bae5-b9f0e06776f2-103-1-c000.snappy.parquet",
         866944,
         1750844137000
        ],
        [
         "dbfs:/mnt/data/data/Orders/parquetFiles/part-00022-tid-413255148558796313-911f8f6b-4fad-417e-bae5-b9f0e06776f2-104-1-c000.snappy.parquet",
         "part-00022-tid-413255148558796313-911f8f6b-4fad-417e-bae5-b9f0e06776f2-104-1-c000.snappy.parquet",
         866880,
         1750844139000
        ],
        [
         "dbfs:/mnt/data/data/Orders/parquetFiles/part-00023-tid-413255148558796313-911f8f6b-4fad-417e-bae5-b9f0e06776f2-105-1-c000.snappy.parquet",
         "part-00023-tid-413255148558796313-911f8f6b-4fad-417e-bae5-b9f0e06776f2-105-1-c000.snappy.parquet",
         866787,
         1750844136000
        ],
        [
         "dbfs:/mnt/data/data/Orders/parquetFiles/part-00024-tid-413255148558796313-911f8f6b-4fad-417e-bae5-b9f0e06776f2-106-1-c000.snappy.parquet",
         "part-00024-tid-413255148558796313-911f8f6b-4fad-417e-bae5-b9f0e06776f2-106-1-c000.snappy.parquet",
         866825,
         1750844139000
        ],
        [
         "dbfs:/mnt/data/data/Orders/parquetFiles/part-00025-tid-413255148558796313-911f8f6b-4fad-417e-bae5-b9f0e06776f2-107-1-c000.snappy.parquet",
         "part-00025-tid-413255148558796313-911f8f6b-4fad-417e-bae5-b9f0e06776f2-107-1-c000.snappy.parquet",
         866783,
         1750844138000
        ],
        [
         "dbfs:/mnt/data/data/Orders/parquetFiles/part-00026-tid-413255148558796313-911f8f6b-4fad-417e-bae5-b9f0e06776f2-108-1-c000.snappy.parquet",
         "part-00026-tid-413255148558796313-911f8f6b-4fad-417e-bae5-b9f0e06776f2-108-1-c000.snappy.parquet",
         867066,
         1750844142000
        ],
        [
         "dbfs:/mnt/data/data/Orders/parquetFiles/part-00027-tid-413255148558796313-911f8f6b-4fad-417e-bae5-b9f0e06776f2-109-1-c000.snappy.parquet",
         "part-00027-tid-413255148558796313-911f8f6b-4fad-417e-bae5-b9f0e06776f2-109-1-c000.snappy.parquet",
         866747,
         1750844148000
        ],
        [
         "dbfs:/mnt/data/data/Orders/parquetFiles/part-00028-tid-413255148558796313-911f8f6b-4fad-417e-bae5-b9f0e06776f2-110-1-c000.snappy.parquet",
         "part-00028-tid-413255148558796313-911f8f6b-4fad-417e-bae5-b9f0e06776f2-110-1-c000.snappy.parquet",
         866819,
         1750844141000
        ],
        [
         "dbfs:/mnt/data/data/Orders/parquetFiles/part-00029-tid-413255148558796313-911f8f6b-4fad-417e-bae5-b9f0e06776f2-111-1-c000.snappy.parquet",
         "part-00029-tid-413255148558796313-911f8f6b-4fad-417e-bae5-b9f0e06776f2-111-1-c000.snappy.parquet",
         866873,
         1750844142000
        ]
       ],
       "datasetInfos": [],
       "dbfsResultPath": null,
       "isJsonSchema": true,
       "metadata": {
        "isDbfsCommandResult": false
       },
       "overflow": false,
       "plotOptions": {
        "customPlotOptions": {},
        "displayType": "table",
        "pivotAggregation": null,
        "pivotColumns": null,
        "xColumns": null,
        "yColumns": null
       },
       "removedWidgets": [],
       "schema": [
        {
         "metadata": "{}",
         "name": "path",
         "type": "\"string\""
        },
        {
         "metadata": "{}",
         "name": "name",
         "type": "\"string\""
        },
        {
         "metadata": "{}",
         "name": "size",
         "type": "\"long\""
        },
        {
         "metadata": "{}",
         "name": "modificationTime",
         "type": "\"long\""
        }
       ],
       "type": "table"
      }
     },
     "output_type": "display_data"
    }
   ],
   "source": [
    "%fs ls /mnt/data/data/Orders/parquetFiles/"
   ]
  },
  {
   "cell_type": "code",
   "execution_count": 0,
   "metadata": {
    "application/vnd.databricks.v1+cell": {
     "cellMetadata": {
      "byteLimit": 2048000,
      "rowLimit": 10000
     },
     "inputWidgets": {},
     "nuid": "f5d2f1de-7b23-4407-93da-7a5992cc91ba",
     "showTitle": false,
     "tableResultSettingsMap": {},
     "title": ""
    }
   },
   "outputs": [],
   "source": [
    "#Reading Orders parquet files and adding a new column to the dataframe and writing as delta format. Creating partition on year column.\n",
    "ord_path = \"/mnt/data/data/Orders/parquetFiles\"\n",
    " \n",
    "df_ord = (spark.read.format(\"parquet\").load(ord_path)\n",
    "      .withColumn(\"timestamp\", current_timestamp())\n",
    "      .withColumn(\"O_OrderDateYear\", year(col(\"O_OrderDate\")))\n",
    "     )\n",
    "\n",
    "# df.printSchema()\n",
    " \n",
    "df_ord.write.format(\"delta\").option(\"mergeSchema\", \"true\").option(\"overwriteSchema\", \"true\").partitionBy(\"O_OrderDateYear\").mode(\"overwrite\").save(\"/mnt/data/data/Orders/delta\")"
   ]
  },
  {
   "cell_type": "code",
   "execution_count": 0,
   "metadata": {
    "application/vnd.databricks.v1+cell": {
     "cellMetadata": {
      "byteLimit": 2048000,
      "implicitDf": true,
      "rowLimit": 10000
     },
     "inputWidgets": {},
     "nuid": "d7f51561-5c25-45d4-bafa-7766b3b2d059",
     "showTitle": false,
     "tableResultSettingsMap": {},
     "title": ""
    }
   },
   "outputs": [
    {
     "output_type": "display_data",
     "data": {
      "text/html": [
       "<style scoped>\n",
       "  .table-result-container {\n",
       "    max-height: 300px;\n",
       "    overflow: auto;\n",
       "  }\n",
       "  table, th, td {\n",
       "    border: 1px solid black;\n",
       "    border-collapse: collapse;\n",
       "  }\n",
       "  th, td {\n",
       "    padding: 5px;\n",
       "  }\n",
       "  th {\n",
       "    text-align: left;\n",
       "  }\n",
       "</style><div class='table-result-container'><table class='table-result'><thead style='background-color: white'><tr></tr></thead><tbody></tbody></table></div>"
      ]
     },
     "metadata": {
      "application/vnd.databricks.v1+output": {
       "addedWidgets": {},
       "aggData": [],
       "aggError": "",
       "aggOverflow": false,
       "aggSchema": [],
       "aggSeriesLimitReached": false,
       "aggType": "",
       "arguments": {},
       "columnCustomDisplayInfos": {},
       "data": [],
       "datasetInfos": [],
       "dbfsResultPath": null,
       "isJsonSchema": true,
       "metadata": {
        "dataframeName": null
       },
       "overflow": false,
       "plotOptions": {
        "customPlotOptions": {},
        "displayType": "table",
        "pivotAggregation": null,
        "pivotColumns": null,
        "xColumns": null,
        "yColumns": null
       },
       "removedWidgets": [],
       "schema": [],
       "type": "table"
      }
     },
     "output_type": "display_data"
    }
   ],
   "source": [
    "%sql\n",
    "DROP TABLE IF EXISTS Orders;\n",
    "CREATE TABLE Orders\n",
    "USING delta\n",
    "location \"/mnt/data/data/Orders/delta\""
   ]
  },
  {
   "cell_type": "code",
   "execution_count": 0,
   "metadata": {
    "application/vnd.databricks.v1+cell": {
     "cellMetadata": {
      "byteLimit": 2048000,
      "implicitDf": true,
      "rowLimit": 10000
     },
     "inputWidgets": {},
     "nuid": "c0d7785a-1910-4db6-be41-239df701cf74",
     "showTitle": false,
     "tableResultSettingsMap": {},
     "title": ""
    }
   },
   "outputs": [
    {
     "output_type": "display_data",
     "data": {
      "text/html": [
       "<style scoped>\n",
       "  .table-result-container {\n",
       "    max-height: 300px;\n",
       "    overflow: auto;\n",
       "  }\n",
       "  table, th, td {\n",
       "    border: 1px solid black;\n",
       "    border-collapse: collapse;\n",
       "  }\n",
       "  th, td {\n",
       "    padding: 5px;\n",
       "  }\n",
       "  th {\n",
       "    text-align: left;\n",
       "  }\n",
       "</style><div class='table-result-container'><table class='table-result'><thead style='background-color: white'><tr><th>col_name</th><th>data_type</th><th>comment</th></tr></thead><tbody><tr><td>O_ORDERKEY</td><td>int</td><td>null</td></tr><tr><td>O_CUSTKEY</td><td>int</td><td>null</td></tr><tr><td>O_ORDERSTATUS</td><td>string</td><td>null</td></tr><tr><td>O_TOTALPRICE</td><td>decimal(13,2)</td><td>null</td></tr><tr><td>O_ORDERDATE</td><td>date</td><td>null</td></tr><tr><td>O_ORDERPRIORITY</td><td>string</td><td>null</td></tr><tr><td>O_CLERK</td><td>string</td><td>null</td></tr><tr><td>O_SHIPPRIORITY</td><td>int</td><td>null</td></tr><tr><td>O_COMMENT</td><td>string</td><td>null</td></tr><tr><td>timestamp</td><td>timestamp</td><td>null</td></tr><tr><td>O_OrderDateYear</td><td>int</td><td>null</td></tr><tr><td># Partition Information</td><td></td><td></td></tr><tr><td># col_name</td><td>data_type</td><td>comment</td></tr><tr><td>O_OrderDateYear</td><td>int</td><td>null</td></tr><tr><td></td><td></td><td></td></tr><tr><td># Delta Statistics Columns</td><td></td><td></td></tr><tr><td>Column Names</td><td>O_COMMENT, O_ORDERKEY, timestamp, O_ORDERPRIORITY, O_CUSTKEY, O_CLERK, O_ORDERSTATUS, O_SHIPPRIORITY, O_ORDERDATE, O_TOTALPRICE</td><td></td></tr><tr><td>Column Selection Method</td><td>first-32</td><td></td></tr><tr><td></td><td></td><td></td></tr><tr><td># Detailed Table Information</td><td></td><td></td></tr><tr><td>Catalog</td><td>spark_catalog</td><td></td></tr><tr><td>Database</td><td>tpchdb</td><td></td></tr><tr><td>Table</td><td>Orders</td><td></td></tr><tr><td>Created Time</td><td>Wed Jun 25 10:05:34 UTC 2025</td><td></td></tr><tr><td>Last Access</td><td>UNKNOWN</td><td></td></tr><tr><td>Created By</td><td>Spark 3.5.0</td><td></td></tr><tr><td>Type</td><td>EXTERNAL</td><td></td></tr><tr><td>Location</td><td>dbfs:/mnt/data/data/Orders/delta</td><td></td></tr><tr><td>Provider</td><td>delta</td><td></td></tr><tr><td>Owner</td><td>root</td><td></td></tr><tr><td>Table Properties</td><td>[delta.enableDeletionVectors=true,delta.feature.deletionVectors=supported,delta.minReaderVersion=3,delta.minWriterVersion=7]</td><td></td></tr></tbody></table></div>"
      ]
     },
     "metadata": {
      "application/vnd.databricks.v1+output": {
       "addedWidgets": {},
       "aggData": [],
       "aggError": "",
       "aggOverflow": false,
       "aggSchema": [],
       "aggSeriesLimitReached": false,
       "aggType": "",
       "arguments": {},
       "columnCustomDisplayInfos": {},
       "data": [
        [
         "O_ORDERKEY",
         "int",
         null
        ],
        [
         "O_CUSTKEY",
         "int",
         null
        ],
        [
         "O_ORDERSTATUS",
         "string",
         null
        ],
        [
         "O_TOTALPRICE",
         "decimal(13,2)",
         null
        ],
        [
         "O_ORDERDATE",
         "date",
         null
        ],
        [
         "O_ORDERPRIORITY",
         "string",
         null
        ],
        [
         "O_CLERK",
         "string",
         null
        ],
        [
         "O_SHIPPRIORITY",
         "int",
         null
        ],
        [
         "O_COMMENT",
         "string",
         null
        ],
        [
         "timestamp",
         "timestamp",
         null
        ],
        [
         "O_OrderDateYear",
         "int",
         null
        ],
        [
         "# Partition Information",
         "",
         ""
        ],
        [
         "# col_name",
         "data_type",
         "comment"
        ],
        [
         "O_OrderDateYear",
         "int",
         null
        ],
        [
         "",
         "",
         ""
        ],
        [
         "# Delta Statistics Columns",
         "",
         ""
        ],
        [
         "Column Names",
         "O_COMMENT, O_ORDERKEY, timestamp, O_ORDERPRIORITY, O_CUSTKEY, O_CLERK, O_ORDERSTATUS, O_SHIPPRIORITY, O_ORDERDATE, O_TOTALPRICE",
         ""
        ],
        [
         "Column Selection Method",
         "first-32",
         ""
        ],
        [
         "",
         "",
         ""
        ],
        [
         "# Detailed Table Information",
         "",
         ""
        ],
        [
         "Catalog",
         "spark_catalog",
         ""
        ],
        [
         "Database",
         "tpchdb",
         ""
        ],
        [
         "Table",
         "Orders",
         ""
        ],
        [
         "Created Time",
         "Wed Jun 25 10:05:34 UTC 2025",
         ""
        ],
        [
         "Last Access",
         "UNKNOWN",
         ""
        ],
        [
         "Created By",
         "Spark 3.5.0",
         ""
        ],
        [
         "Type",
         "EXTERNAL",
         ""
        ],
        [
         "Location",
         "dbfs:/mnt/data/data/Orders/delta",
         ""
        ],
        [
         "Provider",
         "delta",
         ""
        ],
        [
         "Owner",
         "root",
         ""
        ],
        [
         "Table Properties",
         "[delta.enableDeletionVectors=true,delta.feature.deletionVectors=supported,delta.minReaderVersion=3,delta.minWriterVersion=7]",
         ""
        ]
       ],
       "datasetInfos": [],
       "dbfsResultPath": null,
       "isJsonSchema": true,
       "metadata": {
        "createTempViewForImplicitDf": true,
        "dataframeName": "_sqldf",
        "executionCount": 12
       },
       "overflow": false,
       "plotOptions": {
        "customPlotOptions": {},
        "displayType": "table",
        "pivotAggregation": null,
        "pivotColumns": null,
        "xColumns": null,
        "yColumns": null
       },
       "removedWidgets": [],
       "schema": [
        {
         "metadata": "{\"comment\":\"name of the column\"}",
         "name": "col_name",
         "type": "\"string\""
        },
        {
         "metadata": "{\"comment\":\"data type of the column\"}",
         "name": "data_type",
         "type": "\"string\""
        },
        {
         "metadata": "{\"comment\":\"comment of the column\"}",
         "name": "comment",
         "type": "\"string\""
        }
       ],
       "type": "table"
      }
     },
     "output_type": "display_data"
    }
   ],
   "source": [
    "%sql\n",
    "describe formatted Orders"
   ]
  },
  {
   "cell_type": "code",
   "execution_count": 0,
   "metadata": {
    "application/vnd.databricks.v1+cell": {
     "cellMetadata": {
      "byteLimit": 2048000,
      "implicitDf": true,
      "rowLimit": 10000
     },
     "inputWidgets": {},
     "nuid": "986422c9-d5bd-4d49-baa0-891f6169d7f7",
     "showTitle": false,
     "tableResultSettingsMap": {},
     "title": ""
    }
   },
   "outputs": [
    {
     "output_type": "display_data",
     "data": {
      "text/html": [
       "<style scoped>\n",
       "  .table-result-container {\n",
       "    max-height: 300px;\n",
       "    overflow: auto;\n",
       "  }\n",
       "  table, th, td {\n",
       "    border: 1px solid black;\n",
       "    border-collapse: collapse;\n",
       "  }\n",
       "  th, td {\n",
       "    padding: 5px;\n",
       "  }\n",
       "  th {\n",
       "    text-align: left;\n",
       "  }\n",
       "</style><div class='table-result-container'><table class='table-result'><thead style='background-color: white'><tr><th>O_ORDERPRIORITY</th><th>TotalCustomer</th><th>CustAcctBal</th></tr></thead><tbody><tr><td>5-LOW</td><td>27010</td><td>120797774.31</td></tr><tr><td>3-MEDIUM</td><td>26843</td><td>120311794.25</td></tr><tr><td>1-URGENT</td><td>26652</td><td>119932557.75</td></tr><tr><td>4-NOT SPECIFIED</td><td>26582</td><td>119425734.27</td></tr><tr><td>2-HIGH</td><td>26536</td><td>119493714.62</td></tr></tbody></table></div>"
      ]
     },
     "metadata": {
      "application/vnd.databricks.v1+output": {
       "addedWidgets": {},
       "aggData": [],
       "aggError": "",
       "aggOverflow": false,
       "aggSchema": [],
       "aggSeriesLimitReached": false,
       "aggType": "",
       "arguments": {},
       "columnCustomDisplayInfos": {},
       "data": [
        [
         "5-LOW",
         27010,
         "120797774.31"
        ],
        [
         "3-MEDIUM",
         26843,
         "120311794.25"
        ],
        [
         "1-URGENT",
         26652,
         "119932557.75"
        ],
        [
         "4-NOT SPECIFIED",
         26582,
         "119425734.27"
        ],
        [
         "2-HIGH",
         26536,
         "119493714.62"
        ]
       ],
       "datasetInfos": [],
       "dbfsResultPath": null,
       "isJsonSchema": true,
       "metadata": {
        "createTempViewForImplicitDf": true,
        "dataframeName": "_sqldf",
        "executionCount": 13
       },
       "overflow": false,
       "plotOptions": {
        "customPlotOptions": {},
        "displayType": "table",
        "pivotAggregation": null,
        "pivotColumns": null,
        "xColumns": null,
        "yColumns": null
       },
       "removedWidgets": [],
       "schema": [
        {
         "metadata": "{\"HIVE_TYPE_STRING\":\"char(15)\"}",
         "name": "O_ORDERPRIORITY",
         "type": "\"string\""
        },
        {
         "metadata": "{}",
         "name": "TotalCustomer",
         "type": "\"long\""
        },
        {
         "metadata": "{}",
         "name": "CustAcctBal",
         "type": "\"decimal(23,2)\""
        }
       ],
       "type": "table"
      }
     },
     "output_type": "display_data"
    }
   ],
   "source": [
    "%sql\n",
    "-- Getting total customer based on priority and total account balance by joing the delta tables\n",
    "SELECT o.O_ORDERPRIORITY,count(o.O_CustKey) As TotalCustomer,Sum(c.C_AcctBal) As CustAcctBal\n",
    "FROM Orders o \n",
    "INNER JOIN Customer c on o.O_CustKey=c.C_CustKey \n",
    "WHERE o.O_OrderDateYear>1997\n",
    "GROUP BY o.O_OrderPriority\n",
    "ORDER BY TotalCustomer DESC;\n",
    "\n"
   ]
  },
  {
   "cell_type": "code",
   "execution_count": 0,
   "metadata": {
    "application/vnd.databricks.v1+cell": {
     "cellMetadata": {
      "byteLimit": 2048000,
      "rowLimit": 10000
     },
     "inputWidgets": {},
     "nuid": "11e569a1-1327-40bc-855e-8ecc0bee2240",
     "showTitle": false,
     "tableResultSettingsMap": {},
     "title": ""
    }
   },
   "outputs": [],
   "source": [
    "# We can read the Delta files in Python using DeltaTable libraries as shown below \n",
    "deltaTable = DeltaTable.forPath(spark, \"/mnt/data/data/Orders/delta/\")"
   ]
  },
  {
   "cell_type": "code",
   "execution_count": 0,
   "metadata": {
    "application/vnd.databricks.v1+cell": {
     "cellMetadata": {
      "byteLimit": 2048000,
      "rowLimit": 10000
     },
     "inputWidgets": {},
     "nuid": "8badc858-6bc9-421d-acd5-d1db0787ac75",
     "showTitle": false,
     "tableResultSettingsMap": {},
     "title": ""
    }
   },
   "outputs": [
    {
     "output_type": "stream",
     "name": "stdout",
     "output_type": "stream",
     "text": [
      "+----------+---------+-------------+------------+-----------+---------------+---------------+--------------+-------------------+--------------------+---------------+\n|O_ORDERKEY|O_CUSTKEY|O_ORDERSTATUS|O_TOTALPRICE|O_ORDERDATE|O_ORDERPRIORITY|        O_CLERK|O_SHIPPRIORITY|          O_COMMENT|           timestamp|O_OrderDateYear|\n+----------+---------+-------------+------------+-----------+---------------+---------------+--------------+-------------------+--------------------+---------------+\n|   4254692|    45469|            F|    72139.97| 1992-04-20|       1-URGENT|Clerk#000000404|             0|furiously special f|2025-06-25 10:05:...|           1992|\n|   4508992|    76645|            F|   103986.90| 1992-09-26|       1-URGENT|Clerk#000000567|             0|furiously special f|2025-06-25 10:05:...|           1992|\n|   4396387|    85120|            F|   234549.08| 1992-09-16|4-NOT SPECIFIED|Clerk#000000880|             0|furiously special f|2025-06-25 10:05:...|           1992|\n|   4040067|   108232|            F|   196943.34| 1992-10-23|       1-URGENT|Clerk#000000836|             0|furiously special f|2025-06-25 10:05:...|           1992|\n|   4309730|    13418|            F|    19755.02| 1992-10-14|         2-HIGH|Clerk#000000183|             0|furiously special f|2025-06-25 10:05:...|           1992|\n|   4600677|    15538|            F|   241727.06| 1992-06-20|       3-MEDIUM|Clerk#000000443|             0|furiously special f|2025-06-25 10:05:...|           1992|\n|   4011842|    23195|            F|   239090.09| 1992-01-22|4-NOT SPECIFIED|Clerk#000000546|             0|furiously special f|2025-06-25 10:05:...|           1992|\n|   4527010|    37729|            F|    88576.22| 1992-03-21|       1-URGENT|Clerk#000000057|             0|furiously special f|2025-06-25 10:05:...|           1992|\n|   4550369|     6844|            F|    99869.55| 1992-02-28|       3-MEDIUM|Clerk#000000149|             0|furiously special f|2025-06-25 10:05:...|           1992|\n|   4135808|   121475|            F|     7768.68| 1992-10-26|          5-LOW|Clerk#000000477|             0|furiously special f|2025-06-25 10:05:...|           1992|\n|   4371559|    41153|            F|   123802.21| 1992-12-06|         2-HIGH|Clerk#000000628|             0|furiously special f|2025-06-25 10:05:...|           1992|\n|   4146436|    44665|            F|   107021.33| 1992-07-25|         2-HIGH|Clerk#000000354|             0|furiously special f|2025-06-25 10:05:...|           1992|\n|   4617699|    76090|            F|   162149.08| 1992-03-03|       1-URGENT|Clerk#000000015|             0|furiously special f|2025-06-25 10:05:...|           1992|\n|   4259680|    15598|            F|   204712.55| 1992-07-02|         2-HIGH|Clerk#000000754|             0|furiously special f|2025-06-25 10:05:...|           1992|\n|   4329063|   106123|            F|    53578.67| 1992-09-24|          5-LOW|Clerk#000000127|             0|furiously special f|2025-06-25 10:05:...|           1992|\n|   4085760|    61330|            F|   232990.30| 1992-08-10|       3-MEDIUM|Clerk#000000003|             0|furiously special f|2025-06-25 10:05:...|           1992|\n|   3949763|    17614|            F|   174175.58| 1992-04-16|       3-MEDIUM|Clerk#000000662|             0|furiously special f|2025-06-25 10:05:...|           1992|\n|   4129927|    80732|            F|    50895.22| 1992-05-08|         2-HIGH|Clerk#000000390|             0|furiously special f|2025-06-25 10:05:...|           1992|\n|   4534916|    99538|            F|   211172.77| 1992-07-29|       1-URGENT|Clerk#000000799|             0|furiously special f|2025-06-25 10:05:...|           1992|\n|   4011527|    96088|            F|    31147.58| 1992-10-26|         2-HIGH|Clerk#000000543|             0|furiously special f|2025-06-25 10:05:...|           1992|\n+----------+---------+-------------+------------+-----------+---------------+---------------+--------------+-------------------+--------------------+---------------+\nonly showing top 20 rows\n\n"
     ]
    }
   ],
   "source": [
    "#Converting to DF and viewing dataframe contents\n",
    "dt=deltaTable.toDF()\n",
    "dt.show()"
   ]
  },
  {
   "cell_type": "markdown",
   "metadata": {
    "application/vnd.databricks.v1+cell": {
     "cellMetadata": {},
     "inputWidgets": {},
     "nuid": "8d9d0812-82cf-4976-9bee-d71efedd7edb",
     "showTitle": false,
     "tableResultSettingsMap": {},
     "title": ""
    }
   },
   "source": [
    "### DML Support in Delta Table.\n",
    "  We can perform DML opreations like insert,delete and updates to the Delta table."
   ]
  },
  {
   "cell_type": "code",
   "execution_count": 0,
   "metadata": {
    "application/vnd.databricks.v1+cell": {
     "cellMetadata": {
      "byteLimit": 2048000,
      "rowLimit": 10000
     },
     "inputWidgets": {},
     "nuid": "38d3c5d0-b624-41c5-922a-5f8233cfc7f5",
     "showTitle": false,
     "tableResultSettingsMap": {},
     "title": ""
    }
   },
   "outputs": [],
   "source": [
    "# Reading new data which is in the folder newParquetFiles in the same orders folder in the /mnt/data/data\n",
    "# We will see how to perform merge to insert anf update the records in the delta table.\n",
    "\n",
    "#Reading Orders parquet files and adding a new column to the dataframe and writing as delta format. Creating partition on year column.\n",
    "new_ord_path = \"/mnt/data/data/Orders/parquetFiles\"\n",
    "\n",
    "df_new_order = (spark.read.format(\"parquet\").load(new_ord_path)\n",
    "      .withColumn(\"timestamp\", current_timestamp())\n",
    "      .withColumn(\"O_OrderDateYear\", year(col(\"O_OrderDate\")))\n",
    "     )\n",
    "\n",
    "# df.printSchema()\n",
    " \n",
    "df_new_order.write.format(\"delta\").partitionBy(\"O_OrderDateYear\").mode(\"overwrite\").save(\"/mnt/data/data/Orders/dailydata_delta\")\n",
    "\n"
   ]
  },
  {
   "cell_type": "code",
   "execution_count": 0,
   "metadata": {
    "application/vnd.databricks.v1+cell": {
     "cellMetadata": {
      "byteLimit": 2048000,
      "implicitDf": true,
      "rowLimit": 10000
     },
     "inputWidgets": {},
     "nuid": "756db60e-3422-42b8-8198-f851dcabf1fa",
     "showTitle": false,
     "tableResultSettingsMap": {},
     "title": ""
    }
   },
   "outputs": [
    {
     "output_type": "display_data",
     "data": {
      "text/html": [
       "<style scoped>\n",
       "  .table-result-container {\n",
       "    max-height: 300px;\n",
       "    overflow: auto;\n",
       "  }\n",
       "  table, th, td {\n",
       "    border: 1px solid black;\n",
       "    border-collapse: collapse;\n",
       "  }\n",
       "  th, td {\n",
       "    padding: 5px;\n",
       "  }\n",
       "  th {\n",
       "    text-align: left;\n",
       "  }\n",
       "</style><div class='table-result-container'><table class='table-result'><thead style='background-color: white'><tr></tr></thead><tbody></tbody></table></div>"
      ]
     },
     "metadata": {
      "application/vnd.databricks.v1+output": {
       "addedWidgets": {},
       "aggData": [],
       "aggError": "",
       "aggOverflow": false,
       "aggSchema": [],
       "aggSeriesLimitReached": false,
       "aggType": "",
       "arguments": {},
       "columnCustomDisplayInfos": {},
       "data": [],
       "datasetInfos": [],
       "dbfsResultPath": null,
       "isJsonSchema": true,
       "metadata": {
        "dataframeName": null
       },
       "overflow": false,
       "plotOptions": {
        "customPlotOptions": {},
        "displayType": "table",
        "pivotAggregation": null,
        "pivotColumns": null,
        "xColumns": null,
        "yColumns": null
       },
       "removedWidgets": [],
       "schema": [],
       "type": "table"
      }
     },
     "output_type": "display_data"
    }
   ],
   "source": [
    "%sql\n",
    "DROP TABLE IF EXISTS Orders_Daily;\n",
    "CREATE TABLE Orders_Daily\n",
    "USING delta\n",
    "location \"/mnt/data/data/Orders/dailydata_delta\""
   ]
  },
  {
   "cell_type": "code",
   "execution_count": 0,
   "metadata": {
    "application/vnd.databricks.v1+cell": {
     "cellMetadata": {
      "byteLimit": 2048000,
      "implicitDf": true,
      "rowLimit": 10000
     },
     "inputWidgets": {},
     "nuid": "aa375bba-a38a-4995-8b49-237f7e99fc23",
     "showTitle": false,
     "tableResultSettingsMap": {},
     "title": ""
    }
   },
   "outputs": [
    {
     "output_type": "display_data",
     "data": {
      "text/html": [
       "<style scoped>\n",
       "  .table-result-container {\n",
       "    max-height: 300px;\n",
       "    overflow: auto;\n",
       "  }\n",
       "  table, th, td {\n",
       "    border: 1px solid black;\n",
       "    border-collapse: collapse;\n",
       "  }\n",
       "  th, td {\n",
       "    padding: 5px;\n",
       "  }\n",
       "  th {\n",
       "    text-align: left;\n",
       "  }\n",
       "</style><div class='table-result-container'><table class='table-result'><thead style='background-color: white'><tr><th>num_affected_rows</th><th>num_updated_rows</th><th>num_deleted_rows</th><th>num_inserted_rows</th></tr></thead><tbody><tr><td>1500000</td><td>1500000</td><td>0</td><td>0</td></tr></tbody></table></div>"
      ]
     },
     "metadata": {
      "application/vnd.databricks.v1+output": {
       "addedWidgets": {},
       "aggData": [],
       "aggError": "",
       "aggOverflow": false,
       "aggSchema": [],
       "aggSeriesLimitReached": false,
       "aggType": "",
       "arguments": {},
       "columnCustomDisplayInfos": {},
       "data": [
        [
         1500000,
         1500000,
         0,
         0
        ]
       ],
       "datasetInfos": [],
       "dbfsResultPath": null,
       "isJsonSchema": true,
       "metadata": {
        "createTempViewForImplicitDf": true,
        "dataframeName": "_sqldf",
        "executionCount": 20
       },
       "overflow": false,
       "plotOptions": {
        "customPlotOptions": {},
        "displayType": "table",
        "pivotAggregation": null,
        "pivotColumns": null,
        "xColumns": null,
        "yColumns": null
       },
       "removedWidgets": [],
       "schema": [
        {
         "metadata": "{}",
         "name": "num_affected_rows",
         "type": "\"long\""
        },
        {
         "metadata": "{}",
         "name": "num_updated_rows",
         "type": "\"long\""
        },
        {
         "metadata": "{}",
         "name": "num_deleted_rows",
         "type": "\"long\""
        },
        {
         "metadata": "{}",
         "name": "num_inserted_rows",
         "type": "\"long\""
        }
       ],
       "type": "table"
      }
     },
     "output_type": "display_data"
    }
   ],
   "source": [
    "%sql\n",
    "-- Merging into Orders from Orders_Daily table. If records matche on OrderKey then perform update eles insert\n",
    "MERGE INTO Orders AS o\n",
    "USING Orders_daily AS d\n",
    "ON o.O_ORDERKEY = D.O_ORDERKEY\n",
    "WHEN MATCHED THEN \n",
    "  UPDATE SET *\n",
    "WHEN NOT MATCHED \n",
    "  THEN INSERT *;"
   ]
  },
  {
   "cell_type": "code",
   "execution_count": 0,
   "metadata": {
    "application/vnd.databricks.v1+cell": {
     "cellMetadata": {
      "byteLimit": 2048000,
      "implicitDf": true,
      "rowLimit": 10000
     },
     "inputWidgets": {},
     "nuid": "70729f1a-2607-4536-aaef-4b9f2780229a",
     "showTitle": false,
     "tableResultSettingsMap": {},
     "title": ""
    }
   },
   "outputs": [
    {
     "output_type": "display_data",
     "data": {
      "text/html": [
       "<style scoped>\n",
       "  .table-result-container {\n",
       "    max-height: 300px;\n",
       "    overflow: auto;\n",
       "  }\n",
       "  table, th, td {\n",
       "    border: 1px solid black;\n",
       "    border-collapse: collapse;\n",
       "  }\n",
       "  th, td {\n",
       "    padding: 5px;\n",
       "  }\n",
       "  th {\n",
       "    text-align: left;\n",
       "  }\n",
       "</style><div class='table-result-container'><table class='table-result'><thead style='background-color: white'><tr><th>num_affected_rows</th></tr></thead><tbody><tr><td>1</td></tr></tbody></table></div>"
      ]
     },
     "metadata": {
      "application/vnd.databricks.v1+output": {
       "addedWidgets": {},
       "aggData": [],
       "aggError": "",
       "aggOverflow": false,
       "aggSchema": [],
       "aggSeriesLimitReached": false,
       "aggType": "",
       "arguments": {},
       "columnCustomDisplayInfos": {},
       "data": [
        [
         1
        ]
       ],
       "datasetInfos": [],
       "dbfsResultPath": null,
       "isJsonSchema": true,
       "metadata": {
        "createTempViewForImplicitDf": true,
        "dataframeName": "_sqldf",
        "executionCount": 21
       },
       "overflow": false,
       "plotOptions": {
        "customPlotOptions": {},
        "displayType": "table",
        "pivotAggregation": null,
        "pivotColumns": null,
        "xColumns": null,
        "yColumns": null
       },
       "removedWidgets": [],
       "schema": [
        {
         "metadata": "{}",
         "name": "num_affected_rows",
         "type": "\"long\""
        }
       ],
       "type": "table"
      }
     },
     "output_type": "display_data"
    }
   ],
   "source": [
    "%sql\n",
    "-- Deleting from Delta table\n",
    "DELETE FROM Orders WHERE O_ORDERKEY=1359427"
   ]
  },
  {
   "cell_type": "code",
   "execution_count": 0,
   "metadata": {
    "application/vnd.databricks.v1+cell": {
     "cellMetadata": {
      "byteLimit": 2048000,
      "implicitDf": true,
      "rowLimit": 10000
     },
     "inputWidgets": {},
     "nuid": "744c1161-f96d-4f2c-8c8c-ccb9ce35f930",
     "showTitle": false,
     "tableResultSettingsMap": {},
     "title": ""
    }
   },
   "outputs": [
    {
     "output_type": "display_data",
     "data": {
      "text/html": [
       "<style scoped>\n",
       "  .table-result-container {\n",
       "    max-height: 300px;\n",
       "    overflow: auto;\n",
       "  }\n",
       "  table, th, td {\n",
       "    border: 1px solid black;\n",
       "    border-collapse: collapse;\n",
       "  }\n",
       "  th, td {\n",
       "    padding: 5px;\n",
       "  }\n",
       "  th {\n",
       "    text-align: left;\n",
       "  }\n",
       "</style><div class='table-result-container'><table class='table-result'><thead style='background-color: white'><tr><th>O_ORDERKEY</th><th>O_CUSTKEY</th><th>O_ORDERSTATUS</th><th>O_TOTALPRICE</th><th>O_ORDERDATE</th><th>O_ORDERPRIORITY</th><th>O_CLERK</th><th>O_SHIPPRIORITY</th><th>O_COMMENT</th><th>timestamp</th><th>O_OrderDateYear</th></tr></thead><tbody></tbody></table></div>"
      ]
     },
     "metadata": {
      "application/vnd.databricks.v1+output": {
       "addedWidgets": {},
       "aggData": [],
       "aggError": "",
       "aggOverflow": false,
       "aggSchema": [],
       "aggSeriesLimitReached": false,
       "aggType": "",
       "arguments": {},
       "columnCustomDisplayInfos": {},
       "data": [],
       "datasetInfos": [],
       "dbfsResultPath": null,
       "isJsonSchema": true,
       "metadata": {
        "createTempViewForImplicitDf": true,
        "dataframeName": "_sqldf",
        "executionCount": 22
       },
       "overflow": false,
       "plotOptions": {
        "customPlotOptions": {},
        "displayType": "table",
        "pivotAggregation": null,
        "pivotColumns": null,
        "xColumns": null,
        "yColumns": null
       },
       "removedWidgets": [],
       "schema": [
        {
         "metadata": "{}",
         "name": "O_ORDERKEY",
         "type": "\"integer\""
        },
        {
         "metadata": "{}",
         "name": "O_CUSTKEY",
         "type": "\"integer\""
        },
        {
         "metadata": "{\"HIVE_TYPE_STRING\":\"char(1)\"}",
         "name": "O_ORDERSTATUS",
         "type": "\"string\""
        },
        {
         "metadata": "{}",
         "name": "O_TOTALPRICE",
         "type": "\"decimal(13,2)\""
        },
        {
         "metadata": "{}",
         "name": "O_ORDERDATE",
         "type": "\"date\""
        },
        {
         "metadata": "{\"HIVE_TYPE_STRING\":\"char(15)\"}",
         "name": "O_ORDERPRIORITY",
         "type": "\"string\""
        },
        {
         "metadata": "{\"HIVE_TYPE_STRING\":\"char(15)\"}",
         "name": "O_CLERK",
         "type": "\"string\""
        },
        {
         "metadata": "{}",
         "name": "O_SHIPPRIORITY",
         "type": "\"integer\""
        },
        {
         "metadata": "{\"HIVE_TYPE_STRING\":\"varchar(80)\"}",
         "name": "O_COMMENT",
         "type": "\"string\""
        },
        {
         "metadata": "{}",
         "name": "timestamp",
         "type": "\"timestamp\""
        },
        {
         "metadata": "{}",
         "name": "O_OrderDateYear",
         "type": "\"integer\""
        }
       ],
       "type": "table"
      }
     },
     "output_type": "display_data"
    }
   ],
   "source": [
    "%sql\n",
    "SELECT * FROM ORDERS WHERE O_ORDERKEY=1359427"
   ]
  },
  {
   "cell_type": "code",
   "execution_count": 0,
   "metadata": {
    "application/vnd.databricks.v1+cell": {
     "cellMetadata": {
      "byteLimit": 2048000,
      "rowLimit": 10000
     },
     "inputWidgets": {},
     "nuid": "87bb8b7c-8df8-45e8-9330-12de6cb42dc5",
     "showTitle": false,
     "tableResultSettingsMap": {},
     "title": ""
    }
   },
   "outputs": [
    {
     "output_type": "display_data",
     "data": {
      "text/html": [
       "<style scoped>\n",
       "  .table-result-container {\n",
       "    max-height: 300px;\n",
       "    overflow: auto;\n",
       "  }\n",
       "  table, th, td {\n",
       "    border: 1px solid black;\n",
       "    border-collapse: collapse;\n",
       "  }\n",
       "  th, td {\n",
       "    padding: 5px;\n",
       "  }\n",
       "  th {\n",
       "    text-align: left;\n",
       "  }\n",
       "</style><div class='table-result-container'><table class='table-result'><thead style='background-color: white'><tr><th>path</th><th>name</th><th>size</th><th>modificationTime</th></tr></thead><tbody><tr><td>dbfs:/mnt/data/data/Orders/ParquetOutputFormatted/part-00000-tid-413255148558796313-911f8f6b-4fad-417e-bae5-b9f0e06776f2-82-1-c000.snappy.parquet</td><td>part-00000-tid-413255148558796313-911f8f6b-4fad-417e-bae5-b9f0e06776f2-82-1-c000.snappy.parquet</td><td>867030</td><td>1750846326000</td></tr></tbody></table></div>"
      ]
     },
     "metadata": {
      "application/vnd.databricks.v1+output": {
       "addedWidgets": {},
       "aggData": [],
       "aggError": "",
       "aggOverflow": false,
       "aggSchema": [],
       "aggSeriesLimitReached": false,
       "aggType": "",
       "arguments": {},
       "columnCustomDisplayInfos": {},
       "data": [
        [
         "dbfs:/mnt/data/data/Orders/ParquetOutputFormatted/part-00000-tid-413255148558796313-911f8f6b-4fad-417e-bae5-b9f0e06776f2-82-1-c000.snappy.parquet",
         "part-00000-tid-413255148558796313-911f8f6b-4fad-417e-bae5-b9f0e06776f2-82-1-c000.snappy.parquet",
         867030,
         1750846326000
        ]
       ],
       "datasetInfos": [],
       "dbfsResultPath": null,
       "isJsonSchema": true,
       "metadata": {
        "isDbfsCommandResult": false
       },
       "overflow": false,
       "plotOptions": {
        "customPlotOptions": {},
        "displayType": "table",
        "pivotAggregation": null,
        "pivotColumns": null,
        "xColumns": null,
        "yColumns": null
       },
       "removedWidgets": [],
       "schema": [
        {
         "metadata": "{}",
         "name": "path",
         "type": "\"string\""
        },
        {
         "metadata": "{}",
         "name": "name",
         "type": "\"string\""
        },
        {
         "metadata": "{}",
         "name": "size",
         "type": "\"long\""
        },
        {
         "metadata": "{}",
         "name": "modificationTime",
         "type": "\"long\""
        }
       ],
       "type": "table"
      }
     },
     "output_type": "display_data"
    }
   ],
   "source": [
    "%fs ls /mnt/data/data/Orders/ParquetOutputFormatted"
   ]
  },
  {
   "cell_type": "code",
   "execution_count": 0,
   "metadata": {
    "application/vnd.databricks.v1+cell": {
     "cellMetadata": {
      "byteLimit": 2048000,
      "implicitDf": true,
      "rowLimit": 10000
     },
     "inputWidgets": {},
     "nuid": "2c20fc50-5e69-467d-9721-bf088f39f576",
     "showTitle": false,
     "tableResultSettingsMap": {},
     "title": ""
    }
   },
   "outputs": [
    {
     "output_type": "display_data",
     "data": {
      "text/html": [
       "<style scoped>\n",
       "  .table-result-container {\n",
       "    max-height: 300px;\n",
       "    overflow: auto;\n",
       "  }\n",
       "  table, th, td {\n",
       "    border: 1px solid black;\n",
       "    border-collapse: collapse;\n",
       "  }\n",
       "  th, td {\n",
       "    padding: 5px;\n",
       "  }\n",
       "  th {\n",
       "    text-align: left;\n",
       "  }\n",
       "</style><div class='table-result-container'><table class='table-result'><thead style='background-color: white'><tr></tr></thead><tbody></tbody></table></div>"
      ]
     },
     "metadata": {
      "application/vnd.databricks.v1+output": {
       "addedWidgets": {},
       "aggData": [],
       "aggError": "",
       "aggOverflow": false,
       "aggSchema": [],
       "aggSeriesLimitReached": false,
       "aggType": "",
       "arguments": {},
       "columnCustomDisplayInfos": {},
       "data": [],
       "datasetInfos": [],
       "dbfsResultPath": null,
       "isJsonSchema": true,
       "metadata": {
        "dataframeName": null
       },
       "overflow": false,
       "plotOptions": {
        "customPlotOptions": {},
        "displayType": "table",
        "pivotAggregation": null,
        "pivotColumns": null,
        "xColumns": null,
        "yColumns": null
       },
       "removedWidgets": [],
       "schema": [],
       "type": "table"
      }
     },
     "output_type": "display_data"
    }
   ],
   "source": [
    "%sql CONVERT TO DELTA parquet.`dbfs:/mnt/data/data/Orders/ParquetOutputFormatted`"
   ]
  },
  {
   "cell_type": "code",
   "execution_count": 0,
   "metadata": {
    "application/vnd.databricks.v1+cell": {
     "cellMetadata": {
      "byteLimit": 2048000,
      "implicitDf": true,
      "rowLimit": 10000
     },
     "inputWidgets": {},
     "nuid": "c6aadf8f-0a40-4f43-a418-7101b7418a6c",
     "showTitle": false,
     "tableResultSettingsMap": {},
     "title": ""
    }
   },
   "outputs": [
    {
     "output_type": "display_data",
     "data": {
      "text/html": [
       "<style scoped>\n",
       "  .table-result-container {\n",
       "    max-height: 300px;\n",
       "    overflow: auto;\n",
       "  }\n",
       "  table, th, td {\n",
       "    border: 1px solid black;\n",
       "    border-collapse: collapse;\n",
       "  }\n",
       "  th, td {\n",
       "    padding: 5px;\n",
       "  }\n",
       "  th {\n",
       "    text-align: left;\n",
       "  }\n",
       "</style><div class='table-result-container'><table class='table-result'><thead style='background-color: white'><tr></tr></thead><tbody></tbody></table></div>"
      ]
     },
     "metadata": {
      "application/vnd.databricks.v1+output": {
       "addedWidgets": {},
       "aggData": [],
       "aggError": "",
       "aggOverflow": false,
       "aggSchema": [],
       "aggSeriesLimitReached": false,
       "aggType": "",
       "arguments": {},
       "columnCustomDisplayInfos": {},
       "data": [],
       "datasetInfos": [],
       "dbfsResultPath": null,
       "isJsonSchema": true,
       "metadata": {
        "dataframeName": null
       },
       "overflow": false,
       "plotOptions": {
        "customPlotOptions": {},
        "displayType": "table",
        "pivotAggregation": null,
        "pivotColumns": null,
        "xColumns": null,
        "yColumns": null
       },
       "removedWidgets": [],
       "schema": [],
       "type": "table"
      }
     },
     "output_type": "display_data"
    }
   ],
   "source": [
    "%sql\n",
    "CREATE TABLE Orders_Test\n",
    "USING DELTA\n",
    "LOCATION \"/mnt/data/data/Orders/ParquetOutputFormatted\""
   ]
  },
  {
   "cell_type": "code",
   "execution_count": 0,
   "metadata": {
    "application/vnd.databricks.v1+cell": {
     "cellMetadata": {
      "byteLimit": 2048000,
      "implicitDf": true,
      "rowLimit": 10000
     },
     "inputWidgets": {},
     "nuid": "eb67d33c-1ac2-4223-b511-ea86f0623d88",
     "showTitle": false,
     "tableResultSettingsMap": {},
     "title": ""
    }
   },
   "outputs": [
    {
     "output_type": "display_data",
     "data": {
      "text/html": [
       "<style scoped>\n",
       "  .table-result-container {\n",
       "    max-height: 300px;\n",
       "    overflow: auto;\n",
       "  }\n",
       "  table, th, td {\n",
       "    border: 1px solid black;\n",
       "    border-collapse: collapse;\n",
       "  }\n",
       "  th, td {\n",
       "    padding: 5px;\n",
       "  }\n",
       "  th {\n",
       "    text-align: left;\n",
       "  }\n",
       "</style><div class='table-result-container'><table class='table-result'><thead style='background-color: white'><tr><th>col_name</th><th>data_type</th><th>comment</th></tr></thead><tbody><tr><td>O_ORDERKEY</td><td>int</td><td>null</td></tr><tr><td>O_CUSTKEY</td><td>int</td><td>null</td></tr><tr><td>O_ORDERSTATUS</td><td>string</td><td>null</td></tr><tr><td>O_TOTALPRICE</td><td>decimal(13,2)</td><td>null</td></tr><tr><td>O_ORDERDATE</td><td>date</td><td>null</td></tr><tr><td>O_ORDERPRIORITY</td><td>string</td><td>null</td></tr><tr><td>O_CLERK</td><td>string</td><td>null</td></tr><tr><td>O_SHIPPRIORITY</td><td>int</td><td>null</td></tr><tr><td>O_COMMENT</td><td>string</td><td>null</td></tr><tr><td></td><td></td><td></td></tr><tr><td># Delta Statistics Columns</td><td></td><td></td></tr><tr><td>Column Names</td><td>O_COMMENT, O_ORDERKEY, O_ORDERPRIORITY, O_CUSTKEY, O_CLERK, O_ORDERSTATUS, O_SHIPPRIORITY, O_ORDERDATE, O_TOTALPRICE</td><td></td></tr><tr><td>Column Selection Method</td><td>first-32</td><td></td></tr><tr><td></td><td></td><td></td></tr><tr><td># Detailed Table Information</td><td></td><td></td></tr><tr><td>Catalog</td><td>spark_catalog</td><td></td></tr><tr><td>Database</td><td>tpchdb</td><td></td></tr><tr><td>Table</td><td>Orders_Test</td><td></td></tr><tr><td>Created Time</td><td>Wed Jun 25 10:12:55 UTC 2025</td><td></td></tr><tr><td>Last Access</td><td>UNKNOWN</td><td></td></tr><tr><td>Created By</td><td>Spark 3.5.0</td><td></td></tr><tr><td>Type</td><td>EXTERNAL</td><td></td></tr><tr><td>Location</td><td>dbfs:/mnt/data/data/Orders/ParquetOutputFormatted</td><td></td></tr><tr><td>Provider</td><td>delta</td><td></td></tr><tr><td>Owner</td><td>root</td><td></td></tr><tr><td>Table Properties</td><td>[delta.autoOptimize.optimizeWrite=true,delta.enableDeletionVectors=true,delta.feature.deletionVectors=supported,delta.minReaderVersion=3,delta.minWriterVersion=7]</td><td></td></tr></tbody></table></div>"
      ]
     },
     "metadata": {
      "application/vnd.databricks.v1+output": {
       "addedWidgets": {},
       "aggData": [],
       "aggError": "",
       "aggOverflow": false,
       "aggSchema": [],
       "aggSeriesLimitReached": false,
       "aggType": "",
       "arguments": {},
       "columnCustomDisplayInfos": {},
       "data": [
        [
         "O_ORDERKEY",
         "int",
         null
        ],
        [
         "O_CUSTKEY",
         "int",
         null
        ],
        [
         "O_ORDERSTATUS",
         "string",
         null
        ],
        [
         "O_TOTALPRICE",
         "decimal(13,2)",
         null
        ],
        [
         "O_ORDERDATE",
         "date",
         null
        ],
        [
         "O_ORDERPRIORITY",
         "string",
         null
        ],
        [
         "O_CLERK",
         "string",
         null
        ],
        [
         "O_SHIPPRIORITY",
         "int",
         null
        ],
        [
         "O_COMMENT",
         "string",
         null
        ],
        [
         "",
         "",
         ""
        ],
        [
         "# Delta Statistics Columns",
         "",
         ""
        ],
        [
         "Column Names",
         "O_COMMENT, O_ORDERKEY, O_ORDERPRIORITY, O_CUSTKEY, O_CLERK, O_ORDERSTATUS, O_SHIPPRIORITY, O_ORDERDATE, O_TOTALPRICE",
         ""
        ],
        [
         "Column Selection Method",
         "first-32",
         ""
        ],
        [
         "",
         "",
         ""
        ],
        [
         "# Detailed Table Information",
         "",
         ""
        ],
        [
         "Catalog",
         "spark_catalog",
         ""
        ],
        [
         "Database",
         "tpchdb",
         ""
        ],
        [
         "Table",
         "Orders_Test",
         ""
        ],
        [
         "Created Time",
         "Wed Jun 25 10:12:55 UTC 2025",
         ""
        ],
        [
         "Last Access",
         "UNKNOWN",
         ""
        ],
        [
         "Created By",
         "Spark 3.5.0",
         ""
        ],
        [
         "Type",
         "EXTERNAL",
         ""
        ],
        [
         "Location",
         "dbfs:/mnt/data/data/Orders/ParquetOutputFormatted",
         ""
        ],
        [
         "Provider",
         "delta",
         ""
        ],
        [
         "Owner",
         "root",
         ""
        ],
        [
         "Table Properties",
         "[delta.autoOptimize.optimizeWrite=true,delta.enableDeletionVectors=true,delta.feature.deletionVectors=supported,delta.minReaderVersion=3,delta.minWriterVersion=7]",
         ""
        ]
       ],
       "datasetInfos": [],
       "dbfsResultPath": null,
       "isJsonSchema": true,
       "metadata": {
        "createTempViewForImplicitDf": true,
        "dataframeName": "_sqldf",
        "executionCount": 23
       },
       "overflow": false,
       "plotOptions": {
        "customPlotOptions": {},
        "displayType": "table",
        "pivotAggregation": null,
        "pivotColumns": null,
        "xColumns": null,
        "yColumns": null
       },
       "removedWidgets": [],
       "schema": [
        {
         "metadata": "{\"comment\":\"name of the column\"}",
         "name": "col_name",
         "type": "\"string\""
        },
        {
         "metadata": "{\"comment\":\"data type of the column\"}",
         "name": "data_type",
         "type": "\"string\""
        },
        {
         "metadata": "{\"comment\":\"comment of the column\"}",
         "name": "comment",
         "type": "\"string\""
        }
       ],
       "type": "table"
      }
     },
     "output_type": "display_data"
    }
   ],
   "source": [
    "%sql\n",
    "describe formatted Orders_Test"
   ]
  },
  {
   "cell_type": "code",
   "execution_count": 0,
   "metadata": {
    "application/vnd.databricks.v1+cell": {
     "cellMetadata": {},
     "inputWidgets": {},
     "nuid": "3101a6a4-9846-4d58-abf9-13d199652605",
     "showTitle": false,
     "tableResultSettingsMap": {},
     "title": ""
    }
   },
   "outputs": [],
   "source": [
    "#dbutils.fs.unmount(\"/mnt/data/data\")"
   ]
  }
 ],
 "metadata": {
  "application/vnd.databricks.v1+notebook": {
   "computePreferences": null,
   "dashboards": [],
   "environmentMetadata": null,
   "inputWidgetPreferences": null,
   "language": "python",
   "notebookMetadata": {
    "mostRecentlyExecutedCommandWithImplicitDF": {
     "commandId": 5972828735160518,
     "dataframes": [
      "_sqldf"
     ]
    },
    "pythonIndentUnit": 2
   },
   "notebookName": "08-Reading Writing to Delta Tables",
   "widgets": {}
  },
  "kernelspec": {
   "display_name": "Python 3 (ipykernel)",
   "language": "python",
   "name": "python3"
  },
  "language_info": {
   "name": "python"
  }
 },
 "nbformat": 4,
 "nbformat_minor": 0
}