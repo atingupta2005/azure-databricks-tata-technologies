{
 "cells": [
  {
   "cell_type": "markdown",
   "metadata": {
    "application/vnd.databricks.v1+cell": {
     "inputWidgets": {},
     "nuid": "7bab4ff6-1762-435b-a9dc-bfe5a21be2dd",
     "showTitle": false,
     "title": ""
    }
   },
   "source": [
    "# Pre-requisite\n",
    "- We need to create an S3 bucket and also upload the input file to it\n",
    "- Also need to configure the Databricks cluster with an IAM role that has access to the S3 bucket."
   ]
  },
  {
   "cell_type": "markdown",
   "metadata": {
    "application/vnd.databricks.v1+cell": {
     "inputWidgets": {},
     "nuid": "e65d785b-0035-4d7c-b53c-f7e15efe9040",
     "showTitle": false,
     "title": ""
    }
   },
   "source": [
    "## Configure Data Path from S3"
   ]
  },
  {
   "cell_type": "code",
   "execution_count": 0,
   "metadata": {
    "application/vnd.databricks.v1+cell": {
     "inputWidgets": {},
     "nuid": "3b8fa7e5-bff3-4ad2-8859-118bdf54155e",
     "showTitle": false,
     "title": ""
    },
    "vscode": {
     "languageId": "python"
    }
   },
   "outputs": [],
   "source": [
    "# Specify the S3 bucket details\n",
    "# Replace 'your-s3-bucket-name' with the actual name of your S3 bucket\n",
    "s3_bucket_name = \"your-s3-bucket-name\"\n",
    "s3_input_folder = \"data/flight-data/csv\" # Path to your input CSV files within the bucket\n",
    "s3_output_folder = \"output\" # Folder for saving processed data\n",
    "\n",
    "base_s3_path = f\"s3a://{s3_bucket_name}\""
   ]
  },
  {
   "cell_type": "code",
   "execution_count": 0,
   "metadata": {
    "application/vnd.databricks.v1+cell": {
     "inputWidgets": {},
     "nuid": "f875a520-e01f-4624-941a-cdd2c2262293",
     "showTitle": false,
     "title": ""
    },
    "vscode": {
     "languageId": "python"
    }
   },
   "outputs": [],
   "source": [
    "%fs ls {base_s3_path}/{s3_input_folder}"
   ]
  },
  {
   "cell_type": "code",
   "execution_count": 0,
   "metadata": {
    "application/vnd.databricks.v1+cell": {
     "inputWidgets": {},
     "nuid": "50610d40-338d-4dc7-9dfc-07ffad524d10",
     "showTitle": false,
     "title": ""
    },
    "vscode": {
     "languageId": "python"
    }
   },
   "outputs": [],
   "source": [
    "from pyspark.sql.functions import col, column, spark_partition_id"
   ]
  },
  {
   "cell_type": "code",
   "execution_count": 0,
   "metadata": {
    "application/vnd.databricks.v1+cell": {
     "inputWidgets": {},
     "nuid": "2ff0111d-c66c-47c0-8d7f-f0c4c051f4ea",
     "showTitle": false,
     "title": ""
    },
    "vscode": {
     "languageId": "python"
    }
   },
   "outputs": [],
   "source": [
    "flightData2015 = f\"{base_s3_path}/{s3_input_folder}/2010-summary.csv\"\n",
    "flightData2015 = f\"{base_s3_path}/{s3_input_folder}\""
   ]
  },
  {
   "cell_type": "code",
   "execution_count": 0,
   "metadata": {
    "application/vnd.databricks.v1+cell": {
     "inputWidgets": {},
     "nuid": "cae347fd-4146-4c6d-a88a-dab5fa97779b",
     "showTitle": false,
     "title": ""
    },
    "vscode": {
     "languageId": "python"
    }
   },
   "outputs": [],
   "source": [
    "flightDataDF2015 = spark\\\n",
    ".read\\\n",
    ".option(\"inferSchema\", \"true\")\\\n",
    ".option(\"header\", \"true\")\\\n",
    ".csv(flightData2015)\n",
    "\n",
    "flightDataDF2015=flightDataDF2015.withColumn(\"partitionID\", spark_partition_id())\n",
    "flightDataDF2015.rdd.getNumPartitions()"
   ]
  },
  {
   "cell_type": "code",
   "execution_count": 0,
   "metadata": {
    "application/vnd.databricks.v1+cell": {
     "inputWidgets": {},
     "nuid": "de8c45f1-e901-4f49-bbeb-df8c81553d15",
     "showTitle": false,
     "title": ""
    },
    "vscode": {
     "languageId": "python"
    }
   },
   "outputs": [],
   "source": [
    "flightDataDF2015.show(5000)"
   ]
  },
  {
   "cell_type": "code",
   "execution_count": 0,
   "metadata": {
    "application/vnd.databricks.v1+cell": {
     "inputWidgets": {},
     "nuid": "14da9921-8d01-4ff3-87da-a1dea79c2a64",
     "showTitle": false,
     "title": ""
    },
    "vscode": {
     "languageId": "python"
    }
   },
   "outputs": [],
   "source": [
    "from pyspark.sql.functions import concat, collect_list, collect_set, concat_ws\n",
    "\n",
    "#Notice that values in the column - DEST_COUNTRY_NAME are spead over all partitions. It will create shuffling issues if we do any operation based on DEST_COUNTRY_NAME\n",
    "flightDataDF2015.groupBy(\"DEST_COUNTRY_NAME\")\\\n",
    ".agg(concat_ws(\", \", collect_set(flightDataDF2015.partitionID))).display(100)"
   ]
  },
  {
   "cell_type": "markdown",
   "metadata": {
    "application/vnd.databricks.v1+cell": {
     "inputWidgets": {},
     "nuid": "6dea6d78-0d2a-4d2f-8b73-9daf20452a7a",
     "showTitle": false,
     "title": ""
    }
   },
   "source": [
    "## Repartition based on a column using which we need to do group by"
   ]
  },
  {
   "cell_type": "code",
   "execution_count": 0,
   "metadata": {
    "application/vnd.databricks.v1+cell": {
     "inputWidgets": {},
     "nuid": "7ea56e69-13b6-4a6d-a240-4b1dd1515931",
     "showTitle": false,
     "title": ""
    },
    "vscode": {
     "languageId": "python"
    }
   },
   "outputs": [],
   "source": [
    "partition_count=flightDataDF2015.select('DEST_COUNTRY_NAME').distinct().count()\n",
    "print(partition_count)"
   ]
  },
  {
   "cell_type": "code",
   "execution_count": 0,
   "metadata": {
    "application/vnd.databricks.v1+cell": {
     "inputWidgets": {},
     "nuid": "bc734423-7423-4bbb-8b60-e504d14841ac",
     "showTitle": false,
     "title": ""
    },
    "vscode": {
     "languageId": "python"
    }
   },
   "outputs": [],
   "source": [
    "flightDataDF2015_rp=flightDataDF2015.repartition(partition_count, col(\"DEST_COUNTRY_NAME\")).withColumn(\"partitionID\", spark_partition_id())\n",
    "flightDataDF2015_rp.sort(\"DEST_COUNTRY_NAME\").show(5000)"
   ]
  },
  {
   "cell_type": "code",
   "execution_count": 0,
   "metadata": {
    "application/vnd.databricks.v1+cell": {
     "inputWidgets": {},
     "nuid": "cda03f05-97a9-45df-97b1-5ebadce07932",
     "showTitle": false,
     "title": ""
    },
    "vscode": {
     "languageId": "python"
    }
   },
   "outputs": [],
   "source": [
    "flightDataDF2015_rp.sort(\"partitionID\").show(5000)"
   ]
  },
  {
   "cell_type": "code",
   "execution_count": 0,
   "metadata": {
    "application/vnd.databricks.v1+cell": {
     "inputWidgets": {},
     "nuid": "ee4f5002-4fbc-4001-96b0-eb731e5866f9",
     "showTitle": false,
     "title": ""
    },
    "vscode": {
     "languageId": "python"
    }
   },
   "outputs": [],
   "source": [
    "flightDataDF2015_rp.rdd.getNumPartitions()"
   ]
  },
  {
   "cell_type": "code",
   "execution_count": 0,
   "metadata": {
    "application/vnd.databricks.v1+cell": {
     "inputWidgets": {},
     "nuid": "fb34079d-adda-422e-9a0d-9aae77283715",
     "showTitle": false,
     "title": ""
    },
    "vscode": {
     "languageId": "python"
    }
   },
   "outputs": [],
   "source": [
    "# Notice that one column is aligned to a single partition. It will avoid shuffling issues\n",
    "flightDataDF2015_rp.groupBy(\"DEST_COUNTRY_NAME\")\\\n",
    ".agg(concat_ws(\", \", collect_set(flightDataDF2015_rp.partitionID))).display(5000)\n",
    "\n",
    "#flightDataDF2015_rp.sort(\"partitionID\").show(20000)"
   ]
  },
  {
   "cell_type": "code",
   "execution_count": 0,
   "metadata": {
    "application/vnd.databricks.v1+cell": {
     "inputWidgets": {},
     "nuid": "c300539b-66f3-4be3-830d-ac3241f600f7",
     "showTitle": false,
     "title": ""
    },
    "vscode": {
     "languageId": "python"
    }
   },
   "outputs": [],
   "source": [
    "# Notice that one column is aligned to a single partition. It will avoid shuffling issues\n",
    "flightDataDF2015_rp.groupBy(\"partitionID\")\\\n",
    ".agg(concat_ws(\", \", collect_set(flightDataDF2015_rp.partitionID))).display(5000)\n",
    "\n",
    "#flightDataDF2015_rp.sort(\"partitionID\").show(20000)"
   ]
  },
  {
   "cell_type": "markdown",
   "metadata": {
    "application/vnd.databricks.v1+cell": {
     "inputWidgets": {},
     "nuid": "3bf3ec65-a397-4b20-8485-a1cdf1f1c502",
     "showTitle": false,
     "title": ""
    }
   },
   "source": [
    "## Execution plan comparision between SQL Way and Datafram Way"
   ]
  },
  {
   "cell_type": "code",
   "execution_count": 0,
   "metadata": {
    "application/vnd.databricks.v1+cell": {
     "inputWidgets": {},
     "nuid": "9f8b6b66-ea3a-4f44-9ae3-52169471cec0",
     "showTitle": false,
     "title": ""
    },
    "vscode": {
     "languageId": "python"
    }
   },
   "outputs": [],
   "source": [
    "flightDataDF2015.createOrReplaceTempView(\"flight_data_2015\")\n",
    "sqlWay = spark\\\n",
    ".sql(\"\"\"\n",
    "select dest_country_name, count(1)\n",
    "from flight_data_2015\n",
    "group by dest_country_name\n",
    "\"\"\")"
   ]
  },
  {
   "cell_type": "code",
   "execution_count": 0,
   "metadata": {
    "application/vnd.databricks.v1+cell": {
     "inputWidgets": {},
     "nuid": "9d749687-edcd-49a7-82c9-afdbf2926298",
     "showTitle": false,
     "title": ""
    },
    "vscode": {
     "languageId": "python"
    }
   },
   "outputs": [],
   "source": [
    "dataFrameWay = flightDataDF2015\\\n",
    ".groupBy(\"dest_country_name\")\\\n",
    ".count()"
   ]
  },
  {
   "cell_type": "code",
   "execution_count": 0,
   "metadata": {
    "application/vnd.databricks.v1+cell": {
     "inputWidgets": {},
     "nuid": "fee87c05-3fca-4824-8144-85a6926e8427",
     "showTitle": false,
     "title": ""
    },
    "vscode": {
     "languageId": "python"
    }
   },
   "outputs": [],
   "source": [
    "# The physical execution plans are almost ame either way\n",
    "sqlWay.explain()\n",
    "dataFrameWay.explain()"
   ]
  },
  {
   "cell_type": "markdown",
   "metadata": {
    "application/vnd.databricks.v1+cell": {
     "inputWidgets": {},
     "nuid": "8c8c028c-4840-47bd-bca2-2327bdca7566",
     "showTitle": false,
     "title": ""
    }
   },
   "source": [
    "## Grouping on regular dataframe"
   ]
  },
  {
   "cell_type": "code",
   "execution_count": 0,
   "metadata": {
    "application/vnd.databricks.v1+cell": {
     "inputWidgets": {},
     "nuid": "fdce7257-a3b5-4c01-bcb4-bf14d311f775",
     "showTitle": false,
     "title": ""
    },
    "vscode": {
     "languageId": "python"
    }
   },
   "outputs": [],
   "source": [
    "flightDataDF2015_groupBy=flightDataDF2015\\\n",
    ".groupBy(\"DEST_COUNTRY_NAME\")\\\n",
    ".sum(\"count\")\\\n",
    ".withColumnRenamed(\"sum(count)\", \"destination_total\")"
   ]
  },
  {
   "cell_type": "code",
   "execution_count": 0,
   "metadata": {
    "application/vnd.databricks.v1+cell": {
     "inputWidgets": {},
     "nuid": "ef2f8f90-f5b5-4012-8d00-b575c9eebfc5",
     "showTitle": false,
     "title": ""
    },
    "vscode": {
     "languageId": "python"
    }
   },
   "outputs": [],
   "source": [
    "# Only 3 partitions are created and group by will result in shuffling\n",
    "flightDataDF2015.rdd.getNumPartitions()"
   ]
  },
  {
   "cell_type": "code",
   "execution_count": 0,
   "metadata": {
    "application/vnd.databricks.v1+cell": {
     "inputWidgets": {},
     "nuid": "e5ee7f8a-faec-4eab-b1d3-4190c5d6680d",
     "showTitle": false,
     "title": ""
    },
    "vscode": {
     "languageId": "python"
    }
   },
   "outputs": [],
   "source": [
    "# Let's save the results. This will initiate Action and also to the data shuffling\n",
    "dbutils.fs.rm(\"/mnt/data/data/gprby_DEST_COUNTRY_NAME\",True)\n",
    "#Here data shuffleing will happen which is an expensive operation\n",
    "flightDataDF2015_groupBy.write.mode('overwrite').format(\"csv\").option(\"header\", \"true\").save(\"dbfs:/mnt/data/data/gprby_DEST_COUNTRY_NAME\")"
   ]
  },
  {
   "cell_type": "code",
   "execution_count": 0,
   "metadata": {
    "application/vnd.databricks.v1+cell": {
     "inputWidgets": {},
     "nuid": "c6089f16-ac9f-454a-a7e1-ae64cb2ec03a",
     "showTitle": false,
     "title": ""
    },
    "vscode": {
     "languageId": "python"
    }
   },
   "outputs": [],
   "source": [
    "%fs\n",
    "ls /mnt/data/data/gprby_DEST_COUNTRY_NAME"
   ]
  },
  {
   "cell_type": "markdown",
   "metadata": {
    "application/vnd.databricks.v1+cell": {
     "inputWidgets": {},
     "nuid": "095b78ef-ac4c-453f-8b70-1495dba8f647",
     "showTitle": false,
     "title": ""
    }
   },
   "source": [
    "## Grouping on repartitioned dataframe"
   ]
  },
  {
   "cell_type": "code",
   "execution_count": 0,
   "metadata": {
    "application/vnd.databricks.v1+cell": {
     "inputWidgets": {},
     "nuid": "ae92499e-dc93-4a91-b5d9-03fbb6ea25e3",
     "showTitle": false,
     "title": ""
    },
    "vscode": {
     "languageId": "python"
    }
   },
   "outputs": [],
   "source": [
    "# No/Minimal shuffling will happen\n",
    "flightDataDF2015_rp_groupBy=flightDataDF2015_rp\\\n",
    ".groupBy(\"dest_country_name\")\\\n",
    ".sum(\"count\")\\\n",
    ".withColumnRenamed(\"sum(count)\", \"destination_total\")"
   ]
  },
  {
   "cell_type": "code",
   "execution_count": 0,
   "metadata": {
    "application/vnd.databricks.v1+cell": {
     "inputWidgets": {},
     "nuid": "6033c976-8852-4f57-a906-5f5a2c59e9f2",
     "showTitle": false,
     "title": ""
    },
    "vscode": {
     "languageId": "python"
    }
   },
   "outputs": [],
   "source": [
    "dbutils.fs.rm(\"/mnt/data/data/gprby2_DEST_COUNTRY_NAME\",True)"
   ]
  },
  {
   "cell_type": "code",
   "execution_count": 0,
   "metadata": {
    "application/vnd.databricks.v1+cell": {
     "inputWidgets": {},
     "nuid": "cde49312-0f3c-4d17-8d30-81cdb72718b1",
     "showTitle": false,
     "title": ""
    },
    "vscode": {
     "languageId": "python"
    }
   },
   "outputs": [],
   "source": [
    "# Here the RDD Action will trigger and notice that multiple files will be saved, one file each partition\n",
    "flightDataDF2015_rp_groupBy.write.mode('overwrite').format(\"csv\").option(\"header\", \"true\").save(\"dbfs:/mnt/data/data/gprby2_DEST_COUNTRY_NAME\")"
   ]
  },
  {
   "cell_type": "code",
   "execution_count": 0,
   "metadata": {
    "application/vnd.databricks.v1+cell": {
     "inputWidgets": {},
     "nuid": "eb32437d-9964-4742-9985-c304e83480d1",
     "showTitle": false,
     "title": ""
    },
    "vscode": {
     "languageId": "python"
    }
   },
   "outputs": [],
   "source": [
    "%fs\n",
    "ls /mnt/data/data/gprby2_DEST_COUNTRY_NAME"
   ]
  },
  {
   "cell_type": "markdown",
   "metadata": {
    "application/vnd.databricks.v1+cell": {
     "inputWidgets": {},
     "nuid": "7b6056d3-b6b5-41e1-a587-c6c1f4d26b67",
     "showTitle": false,
     "title": ""
    }
   },
   "source": [
    "## Dealing with Manual / Static Schema"
   ]
  },
  {
   "cell_type": "code",
   "execution_count": 0,
   "metadata": {
    "application/vnd.databricks.v1+cell": {
     "inputWidgets": {},
     "nuid": "8880cab0-eb49-4fe6-ac19-8d5deab77642",
     "showTitle": false,
     "title": ""
    },
    "vscode": {
     "languageId": "python"
    }
   },
   "outputs": [],
   "source": [
    "staticSchema = flightDataDF2015.schema"
   ]
  },
  {
   "cell_type": "code",
   "execution_count": 0,
   "metadata": {
    "application/vnd.databricks.v1+cell": {
     "inputWidgets": {},
     "nuid": "63ff08ee-fe98-48d0-a4b9-7669dbae3fd3",
     "showTitle": false,
     "title": ""
    },
    "vscode": {
     "languageId": "python"
    }
   },
   "outputs": [],
   "source": [
    "print(staticSchema)"
   ]
  },
  {
   "cell_type": "code",
   "execution_count": 0,
   "metadata": {
    "application/vnd.databricks.v1+cell": {
     "inputWidgets": {},
     "nuid": "419d4404-999f-4f1a-94f6-5d3cefc9371b",
     "showTitle": false,
     "title": ""
    },
    "vscode": {
     "languageId": "python"
    }
   },
   "outputs": [],
   "source": [
    "flightDataDF2015 = spark\\\n",
    ".read\\\n",
    ".schema(staticSchema)\\\n",
    ".option(\"header\", \"true\")\\\n",
    ".csv(flightData2015)"
   ]
  },
  {
   "cell_type": "code",
   "execution_count": 0,
   "metadata": {
    "application/vnd.databricks.v1+cell": {
     "inputWidgets": {},
     "nuid": "dc9c2852-d2fc-4da5-a725-6e6bb440b5ad",
     "showTitle": false,
     "title": ""
    },
    "vscode": {
     "languageId": "python"
    }
   },
   "outputs": [],
   "source": [
    "flightDataDF2015.display()"
   ]
  },
  {
   "cell_type": "code",
   "execution_count": 0,
   "metadata": {
    "application/vnd.databricks.v1+cell": {
     "inputWidgets": {},
     "nuid": "24a06c3e-4f77-4e2a-92ad-d2a05d7d21ac",
     "showTitle": false,
     "title": ""
    },
    "vscode": {
     "languageId": "python"
    }
   },
   "outputs": [],
   "source": [
    "from pyspark.sql.types import StructField, StructType, StringType, LongType"
   ]
  },
  {
   "cell_type": "code",
   "execution_count": 0,
   "metadata": {
    "application/vnd.databricks.v1+cell": {
     "inputWidgets": {},
     "nuid": "f5379451-635e-4ced-9824-e72162d90c10",
     "showTitle": false,
     "title": ""
    },
    "vscode": {
     "languageId": "python"
    }
   },
   "outputs": [],
   "source": [
    "myManualSchema = StructType([\\\n",
    "                            StructField(\"DEST_COUNTRY_NAME\", StringType(), nullable=False),\\\n",
    "                            StructField(\"ORIGIN_COUNTRY_NAME\", StringType(), nullable=False),\\\n",
    "                            StructField(\"count\", StringType(), nullable=False, metadata={\"hello\":\"world\"})\\\n",
    "                            ])\n",
    "df1 = spark.read.format(\"csv\").schema(myManualSchema)\\\n",
    ".load(flightData2015)\n"
   ]
  },
  {
   "cell_type": "code",
   "execution_count": 0,
   "metadata": {
    "application/vnd.databricks.v1+cell": {
     "inputWidgets": {},
     "nuid": "dcea3c35-8548-4caf-91a7-eb3fb4122c92",
     "showTitle": false,
     "title": ""
    },
    "vscode": {
     "languageId": "python"
    }
   },
   "outputs": [],
   "source": [
    "df1.display()"
   ]
  },
  {
   "cell_type": "code",
   "execution_count": 0,
   "metadata": {
    "application/vnd.databricks.v1+cell": {
     "inputWidgets": {},
     "nuid": "3465448d-3871-4bfa-adeb-cdc909033e6b",
     "showTitle": false,
     "title": ""
    },
    "vscode": {
     "languageId": "python"
    }
   },
   "outputs": [],
   "source": [
    "flightDataDF2015.rdd.getNumPartitions()"
   ]
  },
  {
   "cell_type": "markdown",
   "metadata": {
    "application/vnd.databricks.v1+cell": {
     "inputWidgets": {},
     "nuid": "c146caa4-4721-4bb1-827d-1577e06c7107",
     "showTitle": false,
     "title": ""
    }
   },
   "source": [
    "## Can specify to create multiple files, one for each value in the columns"
   ]
  },
  {
   "cell_type": "code",
   "execution_count": 0,
   "metadata": {
    "application/vnd.databricks.v1+cell": {
     "inputWidgets": {},
     "nuid": "5e29a1b7-e424-4465-921c-fad40925a6c9",
     "showTitle": false,
     "title": ""
    },
    "vscode": {
     "languageId": "python"
    }
   },
   "outputs": [],
   "source": [
    "# Slow Performance as all data is to be reshuffled\n",
    "dbutils.fs.rm(\"dbfs:/mnt/data/data/P_By_DEST_COUNTRY_NAME\", True)\n",
    "flightDataDF2015.write.partitionBy(\"DEST_COUNTRY_NAME\").format(\"csv\").save(\"dbfs:/mnt/data/data/P_By_DEST_COUNTRY_NAME\")"
   ]
  },
  {
   "cell_type": "code",
   "execution_count": 0,
   "metadata": {
    "application/vnd.databricks.v1+cell": {
     "inputWidgets": {},
     "nuid": "e51616d3-2b72-4b7b-85e3-9dcf1b383e8a",
     "showTitle": false,
     "title": ""
    },
    "vscode": {
     "languageId": "python"
    }
   },
   "outputs": [],
   "source": [
    "%fs\n",
    "ls /mnt/data/data/P_By_DEST_COUNTRY_NAME"
   ]
  },
  {
   "cell_type": "code",
   "execution_count": 0,
   "metadata": {
    "application/vnd.databricks.v1+cell": {
     "inputWidgets": {},
     "nuid": "6c025b9b-bf45-4884-bace-ec209a6c23c5",
     "showTitle": false,
     "title": ""
    },
    "vscode": {
     "languageId": "python"
    }
   },
   "outputs": [],
   "source": [
    "# Fast Performance as all data is spread across partitions with each executer\n",
    "dbutils.fs.rm(\"dbfs:/mnt/data/data/P_By_DEST_COUNTRY_NAME_2\", True)\n",
    "flightDataDF2015_rp.write.partitionBy(\"DEST_COUNTRY_NAME\").format(\"csv\").save(\"dbfs:/mnt/data/data/P_By_DEST_COUNTRY_NAME_2\")"
   ]
  },
  {
   "cell_type": "code",
   "execution_count": 0,
   "metadata": {
    "application/vnd.databricks.v1+cell": {
     "inputWidgets": {},
     "nuid": "dde72cb8-18fb-4fd3-919f-5503257bc577",
     "showTitle": false,
     "title": ""
    },
    "vscode": {
     "languageId": "python"
    }
   },
   "outputs": [],
   "source": [
    "%fs\n",
    "ls /mnt/data/data/P_By_DEST_COUNTRY_NAME_2"
   ]
  },
  {
   "cell_type": "code",
   "execution_count": 0,
   "metadata": {
    "application/vnd.databricks.v1+cell": {
     "inputWidgets": {},
     "nuid": "a62a3e12-3e90-4307-886c-333de8aa4d42",
     "showTitle": false,
     "title": ""
    },
    "vscode": {
     "languageId": "python"
    }
   },
   "outputs": [],
   "source": [
    "# Multiple executers will load the data paralally\n",
    "df1 = spark.read.format(\"csv\").schema(myManualSchema)\\\n",
    ".load(\"dbfs:/mnt/data/data/P_By_DEST_COUNTRY_NAME_2\")"
   ]
  },
  {
   "cell_type": "code",
   "execution_count": 0,
   "metadata": {
    "application/vnd.databricks.v1+cell": {
     "inputWidgets": {},
     "nuid": "ab0fa112-5651-4cd7-a3f6-af353f0c1c46",
     "showTitle": false,
     "title": ""
    },
    "vscode": {
     "languageId": "python"
    }
   },
   "outputs": [],
   "source": [
    "# Multiple executers will load the data paralally\n",
    "df1 = spark.read.format(\"csv\").schema(myManualSchema)\\\n",
    ".load(\"dbfs:/mnt/data/data/P_By_DEST_COUNTRY_NAME_2\")"
   ]
  },
  {
   "cell_type": "code",
   "execution_count": 0,
   "metadata": {
    "application/vnd.databricks.v1+cell": {
     "inputWidgets": {},
     "nuid": "6480f361-9fb5-406b-863e-f18b32c600f2",
     "showTitle": false,
     "title": ""
    },
    "vscode": {
     "languageId": "python"
    }
   },
   "outputs": [],
   "source": [
    "df1.createOrReplaceTempView(\"flight_data_2015\")\n",
    "sqlWay = spark\\\n",
    ".sql(\"\"\"\n",
    "select *\n",
    "from flight_data_2015\n",
    "where dest_country_name='United States'\n",
    "\"\"\")"
   ]
  },
  {
   "cell_type": "code",
   "execution_count": 0,
   "metadata": {
    "application/vnd.databricks.v1+cell": {
     "inputWidgets": {},
     "nuid": "2124b745-d657-456a-ba29-176a22d9dbf8",
     "showTitle": false,
     "title": ""
    },
    "vscode": {
     "languageId": "python"
    }
   },
   "outputs": [],
   "source": [
    "sqlWay.show(10000000)"
   ]
  },
  {
   "cell_type": "code",
   "execution_count": 0,
   "metadata": {
    "application/vnd.databricks.v1+cell": {
     "inputWidgets": {},
     "nuid": "ac514e11-6b06-4210-bab8-5247514c8c52",
     "showTitle": false,
     "title": ""
    },
    "vscode": {
     "languageId": "python"
    }
   },
   "outputs": [],
   "source": [
    "# Notice the number of partitions created\n",
    "df1.rdd.getNumPartitions()"
   ]
  },
  {
   "cell_type": "code",
   "execution_count": 0,
   "metadata": {
    "application/vnd.databricks.v1+cell": {
     "inputWidgets": {},
     "nuid": "2b7c5b2d-dadd-4ce8-9395-a898f478aea2",
     "showTitle": false,
     "title": ""
    },
    "vscode": {
     "languageId": "python"
    }
   },
   "outputs": [],
   "source": [
    "df1.display()"
   ]
  },
  {
   "cell_type": "code",
   "execution_count": 0,
   "metadata": {
    "application/vnd.databricks.v1+cell": {
     "inputWidgets": {},
     "nuid": "245226f7-bb7e-4ea1-be19-9e4acd6388fd",
     "showTitle": false,
     "title": ""
    },
    "vscode": {
     "languageId": "python"
    }
   },
   "outputs": [],
   "source": []
  }
 ],
 "metadata": {
  "application/vnd.databricks.v1+notebook": {
   "dashboards": [],
   "language": "python",
   "notebookMetadata": {
    "pythonIndentUnit": 2
   },
   "notebookName": "1-Databricks-datalake-spark",
   "notebookOrigID": 2409501701529355,
   "widgets": {}
  },
  "kernelspec": {
   "display_name": "",
   "name": ""
  },
  "language_info": {
   "name": ""
  }
 },
 "nbformat": 4,
 "nbformat_minor": 0
}
